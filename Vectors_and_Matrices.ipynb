{
  "nbformat": 4,
  "nbformat_minor": 0,
  "metadata": {
    "colab": {
      "name": "Vectors and Matrices.ipynb",
      "provenance": [],
      "collapsed_sections": [],
      "authorship_tag": "ABX9TyOyLidhVN2TAWRhAuc2nAYT",
      "include_colab_link": true
    },
    "kernelspec": {
      "name": "python3",
      "display_name": "Python 3"
    },
    "language_info": {
      "name": "python"
    },
    "accelerator": "GPU"
  },
  "cells": [
    {
      "cell_type": "markdown",
      "metadata": {
        "id": "view-in-github",
        "colab_type": "text"
      },
      "source": [
        "<a href=\"https://colab.research.google.com/github/bardiaHSZD/GameEngineDev/blob/main/Vectors_and_Matrices.ipynb\" target=\"_parent\"><img src=\"https://colab.research.google.com/assets/colab-badge.svg\" alt=\"Open In Colab\"/></a>"
      ]
    },
    {
      "cell_type": "markdown",
      "metadata": {
        "id": "HFZ7ZdRJYk2W"
      },
      "source": [
        "**CUDA Environment Installation**"
      ]
    },
    {
      "cell_type": "code",
      "metadata": {
        "colab": {
          "base_uri": "https://localhost:8080/"
        },
        "id": "DxajE5RhYQie",
        "outputId": "8114ad1f-8e2d-4452-c41c-352c15a2b2ee"
      },
      "source": [
        "# Check the nvcc version.\n",
        "!nvcc --version\n",
        "\n",
        "# Install the NVCC Plugin for Jupyter notebook.\n",
        "!pip install git+git://github.com/andreinechaev/nvcc4jupyter.git\n",
        "  \n",
        "# Load the above extension in the notebook.\n",
        "%load_ext nvcc_plugin"
      ],
      "execution_count": 1,
      "outputs": [
        {
          "output_type": "stream",
          "text": [
            "nvcc: NVIDIA (R) Cuda compiler driver\n",
            "Copyright (c) 2005-2020 NVIDIA Corporation\n",
            "Built on Wed_Jul_22_19:09:09_PDT_2020\n",
            "Cuda compilation tools, release 11.0, V11.0.221\n",
            "Build cuda_11.0_bu.TC445_37.28845127_0\n",
            "Collecting git+git://github.com/andreinechaev/nvcc4jupyter.git\n",
            "  Cloning git://github.com/andreinechaev/nvcc4jupyter.git to /tmp/pip-req-build-rfgsyvii\n",
            "  Running command git clone -q git://github.com/andreinechaev/nvcc4jupyter.git /tmp/pip-req-build-rfgsyvii\n",
            "Requirement already satisfied (use --upgrade to upgrade): NVCCPlugin==0.0.2 from git+git://github.com/andreinechaev/nvcc4jupyter.git in /usr/local/lib/python3.7/dist-packages\n",
            "Building wheels for collected packages: NVCCPlugin\n",
            "  Building wheel for NVCCPlugin (setup.py) ... \u001b[?25l\u001b[?25hdone\n",
            "  Created wheel for NVCCPlugin: filename=NVCCPlugin-0.0.2-cp37-none-any.whl size=4305 sha256=ca72df24f50877d3135200642ef462883bdc8173cbcdaf4305474478d14348f2\n",
            "  Stored in directory: /tmp/pip-ephem-wheel-cache-iyvayx4l/wheels/10/c2/05/ca241da37bff77d60d31a9174f988109c61ba989e4d4650516\n",
            "Successfully built NVCCPlugin\n",
            "directory /content/src already exists\n",
            "Out bin /content/result.out\n"
          ],
          "name": "stdout"
        }
      ]
    },
    {
      "cell_type": "markdown",
      "metadata": {
        "id": "EvbRw5ohWZ_b"
      },
      "source": [
        "**Example:** This is the definition of a simple data structure holding the components of a 3D vector.\n"
      ]
    },
    {
      "cell_type": "code",
      "metadata": {
        "colab": {
          "base_uri": "https://localhost:8080/"
        },
        "id": "PuK82oh6WaTu",
        "outputId": "b39129ff-2710-40fe-e5f6-b0440eb1b631"
      },
      "source": [
        "%%writefile vector.cpp\n",
        "\n",
        "struct Vector3D\n",
        "{\n",
        "  float x, y, z;\n",
        "  Vector3D() = default;\n",
        "  Vector3D(float a, float b, float e)\n",
        "  {\n",
        "    x = a;\n",
        "    y = b;\n",
        "    z = e;\n",
        "  } \n",
        "  float& operator [] (int i)\n",
        "  {\n",
        "    return ( (&x) [i]);\n",
        "  } \n",
        "  const float& operator [] (int i) const\n",
        "  {\n",
        "    return ( (&x) [i]);\n",
        "  }\n",
        "};     "
      ],
      "execution_count": 20,
      "outputs": [
        {
          "output_type": "stream",
          "text": [
            "Overwriting vector.cpp\n"
          ],
          "name": "stdout"
        }
      ]
    },
    {
      "cell_type": "code",
      "metadata": {
        "colab": {
          "base_uri": "https://localhost:8080/"
        },
        "id": "3dEOhfRUacRO",
        "outputId": "efc2292d-daad-4790-db90-8cd60977c13f"
      },
      "source": [
        "%%writefile main.cpp\n",
        "\n",
        "#include <iostream> \n",
        "#include \"vector.cpp\"\n",
        "using namespace std;\n",
        "\n",
        "int main() { \n",
        "    Vector3D a = Vector3D(1,1,1);\n",
        "    printf(\"CUDA is working\\n\");\n",
        "    a[1] = 2;\n",
        "    printf(\"%lf\\n\", a[0]);\n",
        "    return 0; \n",
        "}"
      ],
      "execution_count": 51,
      "outputs": [
        {
          "output_type": "stream",
          "text": [
            "Overwriting main.cpp\n"
          ],
          "name": "stdout"
        }
      ]
    },
    {
      "cell_type": "code",
      "metadata": {
        "colab": {
          "base_uri": "https://localhost:8080/"
        },
        "id": "kbrZgazraERB",
        "outputId": "845d34dc-b636-47e2-da11-2707daaacde3"
      },
      "source": [
        "%%script bash\n",
        "\n",
        "g++ main.cpp -std=c++11\n",
        "./a.out"
      ],
      "execution_count": 52,
      "outputs": [
        {
          "output_type": "stream",
          "text": [
            "CUDA is working\n",
            "1.000000\n"
          ],
          "name": "stdout"
        }
      ]
    }
  ]
}