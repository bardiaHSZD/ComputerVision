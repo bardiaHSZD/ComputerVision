{
  "nbformat": 4,
  "nbformat_minor": 0,
  "metadata": {
    "colab": {
      "name": "Vectors and Matrices.ipynb",
      "provenance": [],
      "collapsed_sections": [],
      "authorship_tag": "ABX9TyOj/DmhqYaxfT/t+1KX9+2H",
      "include_colab_link": true
    },
    "kernelspec": {
      "name": "python3",
      "display_name": "Python 3"
    },
    "language_info": {
      "name": "python"
    },
    "accelerator": "GPU"
  },
  "cells": [
    {
      "cell_type": "markdown",
      "metadata": {
        "id": "view-in-github",
        "colab_type": "text"
      },
      "source": [
        "<a href=\"https://colab.research.google.com/github/bardiaHSZD/GameEngineDev/blob/main/Vectors_and_Matrices.ipynb\" target=\"_parent\"><img src=\"https://colab.research.google.com/assets/colab-badge.svg\" alt=\"Open In Colab\"/></a>"
      ]
    },
    {
      "cell_type": "markdown",
      "metadata": {
        "id": "HFZ7ZdRJYk2W"
      },
      "source": [
        "**CUDA Environment Installation**"
      ]
    },
    {
      "cell_type": "code",
      "metadata": {
        "colab": {
          "base_uri": "https://localhost:8080/"
        },
        "id": "DxajE5RhYQie",
        "outputId": "78c58114-6dc3-4f31-c1a4-dfe28297bbc8"
      },
      "source": [
        "# Check the nvcc version.\n",
        "!nvcc --version\n",
        "\n",
        "# Install the NVCC Plugin for Jupyter notebook.\n",
        "!pip install git+git://github.com/andreinechaev/nvcc4jupyter.git\n",
        "  \n",
        "# Load the above extension in the notebook.\n",
        "%load_ext nvcc_plugin"
      ],
      "execution_count": 1,
      "outputs": [
        {
          "output_type": "stream",
          "text": [
            "nvcc: NVIDIA (R) Cuda compiler driver\n",
            "Copyright (c) 2005-2020 NVIDIA Corporation\n",
            "Built on Wed_Jul_22_19:09:09_PDT_2020\n",
            "Cuda compilation tools, release 11.0, V11.0.221\n",
            "Build cuda_11.0_bu.TC445_37.28845127_0\n",
            "Collecting git+git://github.com/andreinechaev/nvcc4jupyter.git\n",
            "  Cloning git://github.com/andreinechaev/nvcc4jupyter.git to /tmp/pip-req-build-q963hz81\n",
            "  Running command git clone -q git://github.com/andreinechaev/nvcc4jupyter.git /tmp/pip-req-build-q963hz81\n",
            "Requirement already satisfied (use --upgrade to upgrade): NVCCPlugin==0.0.2 from git+git://github.com/andreinechaev/nvcc4jupyter.git in /usr/local/lib/python3.7/dist-packages\n",
            "Building wheels for collected packages: NVCCPlugin\n",
            "  Building wheel for NVCCPlugin (setup.py) ... \u001b[?25l\u001b[?25hdone\n",
            "  Created wheel for NVCCPlugin: filename=NVCCPlugin-0.0.2-cp37-none-any.whl size=4305 sha256=29f2e3b93d320d40e34aab04082d29e275853ceec1a18f58f099daa566195216\n",
            "  Stored in directory: /tmp/pip-ephem-wheel-cache-eqac_6co/wheels/10/c2/05/ca241da37bff77d60d31a9174f988109c61ba989e4d4650516\n",
            "Successfully built NVCCPlugin\n",
            "directory /content/src already exists\n",
            "Out bin /content/result.out\n"
          ],
          "name": "stdout"
        }
      ]
    },
    {
      "cell_type": "markdown",
      "metadata": {
        "id": "EvbRw5ohWZ_b"
      },
      "source": [
        "This is the definition of a simple data structure holding the components of a 3D vector.\n"
      ]
    },
    {
      "cell_type": "code",
      "metadata": {
        "colab": {
          "base_uri": "https://localhost:8080/"
        },
        "id": "PuK82oh6WaTu",
        "outputId": "ca1044cd-bf9c-40be-88dc-d3e26dd8247f"
      },
      "source": [
        "%%writefile vector.cpp\n",
        "\n",
        "struct Vector3D\n",
        "{\n",
        "  float x, y, z;\n",
        "  Vector3D() = default;\n",
        "  Vector3D(float a, float b, float e\n",
        "  {\n",
        "      X = a;\n",
        "      y = b;\n",
        "      z = e;\n",
        "  } \n",
        "  float& operator [] (int i)\n",
        "  return ( (&x) [i]);\n",
        "  const float& operator [] (int i} const\n",
        "  return ( (&x) [i]);\n",
        "}     \n",
        "\n",
        "\n",
        "%%writefile main.cpp\n",
        "\n",
        "#include <iostream> \n",
        "#include \"vector.cpp\"\n",
        "using namespoace std;\n",
        "\n",
        "int main() { \n",
        "    Vector3D a = Vector3D(1,1,1)\n",
        "    printf(\"CUDA is working\\n\");\n",
        "    printf(a)\n",
        "\n",
        "    return 0; \n",
        "}"
      ],
      "execution_count": 8,
      "outputs": [
        {
          "output_type": "stream",
          "text": [
            "Overwriting vector.cpp\n"
          ],
          "name": "stdout"
        }
      ]
    }
  ]
}