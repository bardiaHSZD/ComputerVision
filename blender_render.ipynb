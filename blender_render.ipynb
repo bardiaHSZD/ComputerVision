{
  "nbformat": 4,
  "nbformat_minor": 0,
  "metadata": {
    "accelerator": "GPU",
    "colab": {
      "name": "blender-render.ipynb",
      "provenance": [],
      "collapsed_sections": [],
      "include_colab_link": true
    },
    "kernelspec": {
      "display_name": "Python 3",
      "language": "python",
      "name": "python3"
    },
    "language_info": {
      "codemirror_mode": {
        "name": "ipython",
        "version": 3
      },
      "file_extension": ".py",
      "mimetype": "text/x-python",
      "name": "python",
      "nbconvert_exporter": "python",
      "pygments_lexer": "ipython3",
      "version": "3.7.4"
    }
  },
  "cells": [
    {
      "cell_type": "markdown",
      "metadata": {
        "id": "view-in-github",
        "colab_type": "text"
      },
      "source": [
        "<a href=\"https://colab.research.google.com/github/bardiaHSZD/ComputerVisionVFX/blob/main/blender_render.ipynb\" target=\"_parent\"><img src=\"https://colab.research.google.com/assets/colab-badge.svg\" alt=\"Open In Colab\"/></a>"
      ]
    },
    {
      "cell_type": "markdown",
      "metadata": {
        "id": "6EYxUEsyGlkw"
      },
      "source": [
        "# Setup\n",
        "**Make sure to read the instructions carefully!**\n",
        "\n",
        "If you have other resources used in the Blender project and chose to *make all paths relative*, pack all of them into a zip archive. Alternatively, you can *pack all external file*.\n",
        "\n",
        "* `blender_version` : Version of blender used to render the scene.\n",
        "* `blend_file_path` : Path to the blend file after unpacking the zip archive. If blend file is used, this is automatically ignored.\n",
        "___\n",
        "* `upload_type` : Select the type of upload method. `gdrive_relative` pulls everything from the folder specified.\n",
        "* `drive_path` : Path to your blend/zip file relative to the root of your Google Drive if `google_drive` is selected. Must  state the file and its extension (.zip/.blend) **unless** `gdrive_relative` is selected.\n",
        "* `url_blend` : Specify the URL to the blend/zip file if `url` is selected.\n",
        "___\n",
        "* `animation` : Specify whether animation or still image is rendered. If **still image** is used, put the frame number in `start_frame`.\n",
        "* `start_frame, end_frame` : Specify the start and end frame for animation. You may put same value such as zero for both input to set the default frame in the blend file.\n",
        "___\n",
        "* `download_type` : Select the type of download method. `gdrive_direct` enables the frames to be outputted directly to Google Drive (zipping will be disabled).\n",
        "* `output_name` : Name of the output frames, **do NOT include .blend!** (## for frame number)\n",
        "* `zip_files` : Archive multiple animation frames automatically into a zip file.\n",
        "* `drive_output_path` : Path to your frames/zip file in Google Drive.\n",
        "___\n",
        "* `gpu_enabled, cpu_enabled` : Toggle GPU and CPU for rendering. CPU might give a slight boost in rendering time but may varies depend on the project.\n",
        "\n",
        "After you are done, go to Runtime > Run All (Ctrl + F9) and upload your files or have Google Drive authorised below. See the [GitHub repo](https://github.com/syn73/blender-colab) for more info."
      ]
    },
    {
      "cell_type": "code",
      "metadata": {
        "id": "IXHo6x0QuxVH",
        "colab": {
          "base_uri": "https://localhost:8080/"
        },
        "outputId": "fe5a0fb6-8ec9-464c-9059-4b4d91d42f0f"
      },
      "source": [
        "!sudo apt update\n",
        "\n",
        "!sudo apt install ffmpeg"
      ],
      "execution_count": 17,
      "outputs": [
        {
          "output_type": "stream",
          "name": "stdout",
          "text": [
            "\u001b[33m\r0% [Working]\u001b[0m\r            \rHit:1 http://archive.ubuntu.com/ubuntu bionic InRelease\n",
            "\r            \rGet:2 http://security.ubuntu.com/ubuntu bionic-security InRelease [88.7 kB]\n",
            "\u001b[33m\r0% [Waiting for headers] [2 InRelease 14.2 kB/88.7 kB 16%] [Connecting to cloud\u001b[0m\u001b[33m\r0% [1 InRelease gpgv 242 kB] [Waiting for headers] [2 InRelease 28.7 kB/88.7 kB\u001b[0m\r                                                                               \rGet:3 http://archive.ubuntu.com/ubuntu bionic-updates InRelease [88.7 kB]\n",
            "\r                                                                               \rHit:4 http://ppa.launchpad.net/c2d4u.team/c2d4u4.0+/ubuntu bionic InRelease\n",
            "\u001b[33m\r0% [1 InRelease gpgv 242 kB] [3 InRelease 14.2 kB/88.7 kB 16%] [2 InRelease 40.\u001b[0m\u001b[33m\r0% [1 InRelease gpgv 242 kB] [3 InRelease 46.0 kB/88.7 kB 52%] [Connected to cl\u001b[0m\r                                                                               \rHit:5 http://ppa.launchpad.net/cran/libgit2/ubuntu bionic InRelease\n",
            "\u001b[33m\r0% [1 InRelease gpgv 242 kB] [3 InRelease 46.0 kB/88.7 kB 52%] [Connected to cl\u001b[0m\u001b[33m\r0% [1 InRelease gpgv 242 kB] [Connected to cloud.r-project.org (18.66.180.33)] \u001b[0m\r                                                                               \rGet:6 http://archive.ubuntu.com/ubuntu bionic-backports InRelease [74.6 kB]\n",
            "\u001b[33m\r0% [1 InRelease gpgv 242 kB] [6 InRelease 20.0 kB/74.6 kB 27%] [Connected to cl\u001b[0m\r                                                                               \rHit:7 http://ppa.launchpad.net/deadsnakes/ppa/ubuntu bionic InRelease\n",
            "\u001b[33m\r0% [1 InRelease gpgv 242 kB] [6 InRelease 64.3 kB/74.6 kB 86%] [Connected to cl\u001b[0m\u001b[33m\r0% [1 InRelease gpgv 242 kB] [Connected to cloud.r-project.org (18.66.180.33)] \u001b[0m\r                                                                               \rHit:8 http://ppa.launchpad.net/graphics-drivers/ppa/ubuntu bionic InRelease\n",
            "\u001b[33m\r0% [1 InRelease gpgv 242 kB] [Connected to cloud.r-project.org (18.66.180.33)] \u001b[0m\r                                                                               \rHit:9 https://cloud.r-project.org/bin/linux/ubuntu bionic-cran40/ InRelease\n",
            "Ign:10 https://developer.download.nvidia.com/compute/cuda/repos/ubuntu1804/x86_64  InRelease\n",
            "Ign:11 https://developer.download.nvidia.com/compute/machine-learning/repos/ubuntu1804/x86_64  InRelease\n",
            "Hit:12 https://developer.download.nvidia.com/compute/cuda/repos/ubuntu1804/x86_64  Release\n",
            "Hit:13 https://developer.download.nvidia.com/compute/machine-learning/repos/ubuntu1804/x86_64  Release\n",
            "Fetched 252 kB in 1s (242 kB/s)\n",
            "Reading package lists... Done\n",
            "Building dependency tree       \n",
            "Reading state information... Done\n",
            "81 packages can be upgraded. Run 'apt list --upgradable' to see them.\n",
            "Reading package lists... Done\n",
            "Building dependency tree       \n",
            "Reading state information... Done\n",
            "ffmpeg is already the newest version (7:3.4.8-0ubuntu0.2).\n",
            "0 upgraded, 0 newly installed, 0 to remove and 81 not upgraded.\n"
          ]
        }
      ]
    },
    {
      "cell_type": "code",
      "metadata": {
        "colab": {
          "base_uri": "https://localhost:8080/"
        },
        "id": "13eE3z-0SPSq",
        "outputId": "13a3902f-e2d9-43b3-f5f6-3cebccc82d6d"
      },
      "source": [
        "!apt-get install python-opengl -y\n",
        "\n",
        "!apt install xvfb -y\n",
        "\n",
        "!pip install pyvirtualdisplay\n",
        "\n",
        "!pip install piglet\n",
        "\n",
        "\n",
        "from pyvirtualdisplay import Display\n",
        "Display().start()"
      ],
      "execution_count": 16,
      "outputs": [
        {
          "output_type": "stream",
          "name": "stdout",
          "text": [
            "Reading package lists... Done\n",
            "Building dependency tree       \n",
            "Reading state information... Done\n",
            "python-opengl is already the newest version (3.1.0+dfsg-1).\n",
            "0 upgraded, 0 newly installed, 0 to remove and 81 not upgraded.\n",
            "Reading package lists... Done\n",
            "Building dependency tree       \n",
            "Reading state information... Done\n",
            "xvfb is already the newest version (2:1.19.6-1ubuntu4.10).\n",
            "0 upgraded, 0 newly installed, 0 to remove and 81 not upgraded.\n",
            "Requirement already satisfied: pyvirtualdisplay in /usr/local/lib/python3.7/dist-packages (2.2)\n",
            "Requirement already satisfied: EasyProcess in /usr/local/lib/python3.7/dist-packages (from pyvirtualdisplay) (0.3)\n",
            "Requirement already satisfied: piglet in /usr/local/lib/python3.7/dist-packages (1.0.0)\n",
            "Requirement already satisfied: piglet-templates in /usr/local/lib/python3.7/dist-packages (from piglet) (1.2.0)\n",
            "Requirement already satisfied: attrs in /usr/local/lib/python3.7/dist-packages (from piglet-templates->piglet) (21.2.0)\n",
            "Requirement already satisfied: pyparsing in /usr/local/lib/python3.7/dist-packages (from piglet-templates->piglet) (3.0.6)\n",
            "Requirement already satisfied: markupsafe in /usr/local/lib/python3.7/dist-packages (from piglet-templates->piglet) (2.0.1)\n",
            "Requirement already satisfied: astunparse in /usr/local/lib/python3.7/dist-packages (from piglet-templates->piglet) (1.6.3)\n",
            "Requirement already satisfied: wheel<1.0,>=0.23.0 in /usr/local/lib/python3.7/dist-packages (from astunparse->piglet-templates->piglet) (0.37.0)\n",
            "Requirement already satisfied: six<2.0,>=1.6.1 in /usr/local/lib/python3.7/dist-packages (from astunparse->piglet-templates->piglet) (1.15.0)\n"
          ]
        },
        {
          "output_type": "execute_result",
          "data": {
            "text/plain": [
              "<pyvirtualdisplay.display.Display at 0x7f7537eb62d0>"
            ]
          },
          "metadata": {},
          "execution_count": 16
        }
      ]
    },
    {
      "cell_type": "code",
      "metadata": {
        "id": "8dFNjYGTgNjR"
      },
      "source": [
        "blender_version = \"3.0.0\" #@param [\"2.79b\", \"2.80rc3\", \"2.81a\", \"2.82a\", \"2.83.18\", \"2.90.1\", \"2.91.2\", \"2.92.0\", \"2.93.5\", \"3.0.0\"]\n",
        "blend_file_path = 'path/to/file.blend' #@param {type: 'string'}\n",
        "#@markdown ---\n",
        "upload_type = 'direct' #@param ['direct', 'google_drive', 'url', 'gdrive_relative'] {allow-input: false}\n",
        "drive_path = 'path/to/blend.zip' #@param {type: 'string'}\n",
        "url_blend = '' #@param {type: 'string'}\n",
        "#@markdown ---\n",
        "animation = True #@param {type: 'boolean'}\n",
        "start_frame =  1#@param {type: 'integer'}\n",
        "end_frame =  260#@param {type: 'integer'}\n",
        "#@markdown ---\n",
        "download_type = 'direct' #@param ['direct', 'google_drive', 'gdrive_direct'] {allow-input: false}\n",
        "output_name = 'blender-##' #@param {type: 'string'}\n",
        "zip_files = True #@param {type: 'boolean'}\n",
        "drive_output_path = 'blender/output' #@param {type: 'string'}\n",
        "#@markdown ---\n",
        "gpu_enabled = True #@param {type:\"boolean\"}\n",
        "cpu_enabled = True #@param {type:\"boolean\"}"
      ],
      "execution_count": 18,
      "outputs": []
    },
    {
      "cell_type": "code",
      "metadata": {
        "id": "NGH80xgvxPkC"
      },
      "source": [
        ""
      ],
      "execution_count": null,
      "outputs": []
    },
    {
      "cell_type": "code",
      "metadata": {
        "id": "QRzNmiHN8Xr0",
        "colab": {
          "base_uri": "https://localhost:8080/"
        },
        "outputId": "9d2273d8-f292-4886-8363-6fa2da1c930e"
      },
      "source": [
        "import os\n",
        "import shutil\n",
        "from google.colab import files, drive\n",
        "uploaded_filename = \"\"\n",
        "\n",
        "upload_type = 'google_drive'\n",
        "\n",
        "if upload_type == 'google_drive' or upload_type == 'gdrive_relative' or download_type == 'google_drive' or download_type == 'gdrive_direct':\n",
        "    drive.mount('/drive')\n",
        "\n",
        "if upload_type == 'direct':\n",
        "    uploaded = files.upload()\n",
        "    for fn in uploaded.keys():\n",
        "        uploaded_filename = fn\n",
        "elif upload_type == 'url':\n",
        "    !wget -nc $url_blend\n",
        "    uploaded_filename = os.path.basename(url_blend)\n",
        "elif upload_type == 'google_drive':\n",
        "    #shutil.copy('/content/drive/MyDrive' + drive_path, '.')\n",
        "    #uploaded_filename = os.path.basename(drive_path)\n",
        "    uploaded_filename = '/content/drive/MyDrive/out/Camera_setup.blend'\n"
      ],
      "execution_count": 20,
      "outputs": [
        {
          "output_type": "stream",
          "name": "stdout",
          "text": [
            "Drive already mounted at /drive; to attempt to forcibly remount, call drive.mount(\"/drive\", force_remount=True).\n"
          ]
        }
      ]
    },
    {
      "cell_type": "code",
      "metadata": {
        "colab": {
          "base_uri": "https://localhost:8080/"
        },
        "id": "9P8HMWd9xq1H",
        "outputId": "a8498a89-267c-4257-ca25-e8e5c482730c"
      },
      "source": [
        "#Connect Google Drive\n",
        "from google.colab import drive\n",
        "drive.mount('/content/drive')"
      ],
      "execution_count": 21,
      "outputs": [
        {
          "output_type": "stream",
          "name": "stdout",
          "text": [
            "Mounted at /content/drive\n"
          ]
        }
      ]
    },
    {
      "cell_type": "code",
      "metadata": {
        "id": "KowqWtLzgSLw",
        "colab": {
          "base_uri": "https://localhost:8080/",
          "height": 140
        },
        "outputId": "5f7003ad-481c-4605-91c9-9a14f008de80"
      },
      "source": [
        "'''\n",
        "#!rm -r render\n",
        "!mkdir render\n",
        "\n",
        "if upload_type == 'gdrive_relative':\n",
        "    if not drive_path.endswith('/'):\n",
        "        drive_path += '/'\n",
        "    !cp -r '/drive/My Drive/{drive_path}.' 'render/'\n",
        "elif uploaded_filename.lower().endswith('.zip'):\n",
        "    !unzip -o $uploaded_filename -d 'render/'\n",
        "elif uploaded_filename.lower().endswith('.blend'):\n",
        "    shutil.copy(uploaded_filename, 'render/')\n",
        "    blend_file_path = uploaded_filename\n",
        "else:\n",
        "    raise SystemExit(\"Invalid file extension, only .blend and .zip can be uploaded.\")\n",
        "'''    "
      ],
      "execution_count": 22,
      "outputs": [
        {
          "output_type": "execute_result",
          "data": {
            "application/vnd.google.colaboratory.intrinsic+json": {
              "type": "string"
            },
            "text/plain": [
              "'\\n#!rm -r render\\n!mkdir render\\n\\nif upload_type == \\'gdrive_relative\\':\\n    if not drive_path.endswith(\\'/\\'):\\n        drive_path += \\'/\\'\\n    !cp -r \\'/drive/My Drive/{drive_path}.\\' \\'render/\\'\\nelif uploaded_filename.lower().endswith(\\'.zip\\'):\\n    !unzip -o $uploaded_filename -d \\'render/\\'\\nelif uploaded_filename.lower().endswith(\\'.blend\\'):\\n    shutil.copy(uploaded_filename, \\'render/\\')\\n    blend_file_path = uploaded_filename\\nelse:\\n    raise SystemExit(\"Invalid file extension, only .blend and .zip can be uploaded.\")\\n'"
            ]
          },
          "metadata": {},
          "execution_count": 22
        }
      ]
    },
    {
      "cell_type": "code",
      "metadata": {
        "id": "mKBhu7Ia5idD",
        "colab": {
          "base_uri": "https://localhost:8080/",
          "height": 35
        },
        "outputId": "fbea5e2d-3956-44d3-8f1f-7d3934aeeae4"
      },
      "source": [
        "blend_file_path"
      ],
      "execution_count": 8,
      "outputs": [
        {
          "output_type": "execute_result",
          "data": {
            "application/vnd.google.colaboratory.intrinsic+json": {
              "type": "string"
            },
            "text/plain": [
              "'path/to/file.blend'"
            ]
          },
          "metadata": {},
          "execution_count": 8
        }
      ]
    },
    {
      "cell_type": "code",
      "metadata": {
        "id": "GPJ9fmoB6PWM",
        "colab": {
          "base_uri": "https://localhost:8080/"
        },
        "outputId": "f5085cf9-5675-478c-97d2-7a1812d86335"
      },
      "source": [
        "blender_url_dict = {'2.79b'   : \"https://ftp.nluug.nl/pub/graphics/blender/release/Blender2.79/blender-2.79b-linux-glibc219-x86_64.tar.bz2\",\n",
        "                    '2.80rc3' : \"https://ftp.nluug.nl/pub/graphics/blender/release/Blender2.80/blender-2.80rc3-linux-glibc217-x86_64.tar.bz2\",\n",
        "                    '2.81a'   : \"https://ftp.nluug.nl/pub/graphics/blender/release/Blender2.81/blender-2.81a-linux-glibc217-x86_64.tar.bz2\",\n",
        "                    '2.82a'   : \"https://ftp.nluug.nl/pub/graphics/blender/release/Blender2.82/blender-2.82a-linux64.tar.xz\",\n",
        "                    '2.83.18' : \"https://ftp.nluug.nl/pub/graphics/blender/release/Blender2.83/blender-2.83.18-linux-x64.tar.xz\",\n",
        "                    '2.90.1'  : \"https://ftp.nluug.nl/pub/graphics/blender/release/Blender2.90/blender-2.90.1-linux64.tar.xz\",\n",
        "                    '2.91.2'  : \"https://ftp.nluug.nl/pub/graphics/blender/release/Blender2.91/blender-2.91.2-linux64.tar.xz\",\n",
        "                    '2.92.0'  : \"https://ftp.nluug.nl/pub/graphics/blender/release/Blender2.92/blender-2.92.0-linux64.tar.xz\",\n",
        "                    '2.93.5'  : \"https://ftp.nluug.nl/pub/graphics/blender/release/Blender2.93/blender-2.93.5-linux-x64.tar.xz\",\n",
        "                    '3.0.0'   : \"https://builder.blender.org/download/daily/blender-3.1.0-alpha+master.6878897a6de6-linux.x86_64-release.tar.xz\"}\n",
        "\n",
        "blender_url = blender_url_dict[blender_version]\n",
        "base_url = os.path.basename(blender_url)\n",
        "\n",
        "!mkdir $blender_version\n",
        "!wget -nc $blender_url\n",
        "!tar -xkf $base_url -C ./$blender_version --strip-components=1"
      ],
      "execution_count": 9,
      "outputs": [
        {
          "output_type": "stream",
          "name": "stdout",
          "text": [
            "--2021-12-19 15:01:46--  https://builder.blender.org/download/daily/blender-3.1.0-alpha+master.6878897a6de6-linux.x86_64-release.tar.xz\n",
            "Resolving builder.blender.org (builder.blender.org)... 82.94.213.213\n",
            "Connecting to builder.blender.org (builder.blender.org)|82.94.213.213|:443... connected.\n",
            "HTTP request sent, awaiting response... 200 OK\n",
            "Length: 186895744 (178M) [application/x-xz]\n",
            "Saving to: ‘blender-3.1.0-alpha+master.6878897a6de6-linux.x86_64-release.tar.xz’\n",
            "\n",
            "blender-3.1.0-alpha 100%[===================>] 178.24M  10.8MB/s    in 17s     \n",
            "\n",
            "2021-12-19 15:02:02 (10.7 MB/s) - ‘blender-3.1.0-alpha+master.6878897a6de6-linux.x86_64-release.tar.xz’ saved [186895744/186895744]\n",
            "\n"
          ]
        }
      ]
    },
    {
      "cell_type": "code",
      "metadata": {
        "id": "6elYiQrvkUAe"
      },
      "source": [
        "# Enable GPU rendering (or add custom properties here)\n",
        "data = \"import re\\n\"+\\\n",
        "    \"import bpy\\n\"+\\\n",
        "    \"scene = bpy.context.scene\\n\"+\\\n",
        "    \"scene.cycles.device = 'GPU'\\n\"+\\\n",
        "    \"prefs = bpy.context.preferences\\n\"+\\\n",
        "    \"prefs.addons['cycles'].preferences.get_devices()\\n\"+\\\n",
        "    \"cprefs = prefs.addons['cycles'].preferences\\n\"+\\\n",
        "    \"print(cprefs)\\n\"+\\\n",
        "    \"for compute_device_type in ('CUDA', 'OPENCL', 'NONE'):\\n\"+\\\n",
        "    \"    try:\\n\"+\\\n",
        "    \"        cprefs.compute_device_type = compute_device_type\\n\"+\\\n",
        "    \"        print('Device found:',compute_device_type)\\n\"+\\\n",
        "    \"        break\\n\"+\\\n",
        "    \"    except TypeError:\\n\"+\\\n",
        "    \"        pass\\n\"+\\\n",
        "    \"for device in cprefs.devices:\\n\"+\\\n",
        "    \"    if not re.match('intel', device.name, re.I):\\n\"+\\\n",
        "    \"        print('Activating',device)\\n\"+\\\n",
        "    \"        device.use = \"+str(gpu_enabled)+\"\\n\"+\\\n",
        "    \"    else:\\n\"+\\\n",
        "    \"        device.use = \"+str(cpu_enabled)+\"\\n\"\n",
        "with open('setgpu.py', 'w') as f:\n",
        "    f.write(data)"
      ],
      "execution_count": 23,
      "outputs": []
    },
    {
      "cell_type": "code",
      "metadata": {
        "id": "kFJ35OuUhpod"
      },
      "source": [
        ""
      ],
      "execution_count": null,
      "outputs": []
    },
    {
      "cell_type": "code",
      "metadata": {
        "id": "Fpk2w3yM8XqQ",
        "colab": {
          "base_uri": "https://localhost:8080/"
        },
        "outputId": "97dc7416-a0b4-4bc1-e035-cf23aa161178"
      },
      "source": [
        "#!rm -r output\n",
        "!mkdir output\n",
        "\n",
        "if not drive_output_path.endswith('/'):\n",
        "    drive_output_path += '/'\n",
        "\n",
        "if download_type != 'gdrive_direct':\n",
        "    output_path = 'output/' + output_name\n",
        "else:\n",
        "    output_path = '/drive/My Drive/' + drive_output_path + output_name\n",
        "\n",
        "\n",
        "task_total_count = 11\n",
        "frame_rate = 24\n",
        "task_start_frame = 1\n",
        "task_end_frame = task_start_frame + frame_rate\n",
        "if animation:\n",
        "  for i in range(0, task_total_count):\n",
        "    task_start_frame = i*24 + 1 \n",
        "    task_end_frame = min(task_start_frame + frame_rate - 1,264)\n",
        "    if task_start_frame == task_end_frame:\n",
        "        !sudo ./$blender_version/blender -b '/content/drive/MyDrive/out/Camera_Setup.blend' -P setgpu.py -E CYCLES -o '{output_path}' -noaudio -a\n",
        "    else:\n",
        "        !sudo ./$blender_version/blender -b '/content/drive/MyDrive/out/Camera_Setup.blend' -P setgpu.py -E CYCLES -o '{output_path}' -noaudio -s $task_start_frame -e $task_end_frame -a\n",
        "    !ffmpeg -start_number '{task_start_frame}' -i '/content/output/blender-%02d.tif' -crf 18 '/content/drive/MyDrive/out/test_loss_less_{task_start_frame}_{task_end_frame}.mp4'\n",
        "    #!ffmpeg -start_number '{task_start_frame}' -i '/content/output/blender-%02d_F.tif' -crf 18 '/content/drive/MyDrive/out/test_loss_less_F_{task_start_frame}_{task_end_frame}.mp4'   \n",
        "    #!ffmpeg -start_number '{task_start_frame}' -i '/content/output/blender-%02d_L.tif' -crf 18 '/content/drive/MyDrive/out/test_loss_less_L_{task_start_frame}_{task_end_frame}.mp4'\n",
        "    #!ffmpeg -start_number '{task_start_frame}' -i '/content/output/blender-%02d_R.tif' -crf 18 '/content/drive/MyDrive/out/test_loss_less_R_{task_start_frame}_{task_end_frame}.mp4'\n",
        "else:\n",
        "    !sudo ./$blender_version/blender -b '/content/drive/MyDrive/out/Camera_Setup.blend' -P setgpu.py -E CYCLES -o '{output_path}' -noaudio -f $task_start_frame\n",
        "    #!sudo ./$blender_version/blender -b 'render/{blend_file_path}' -P setgpu.py -E CYCLES -o '{output_path}' -noaudio -f $start_frame"
      ],
      "execution_count": null,
      "outputs": [
        {
          "output_type": "stream",
          "name": "stdout",
          "text": [
            "mkdir: cannot create directory ‘output’: File exists\n",
            "Blender 3.1.0 Alpha (hash 6878897a6de6 built 2021-12-19 00:55:52)\n",
            "Read blend: /content/drive/MyDrive/out/Camera_Setup.blend\n",
            "Info: Read library:  '/content/drive/MyDrive/Bob Ross -Nothern Lights- Scene -Animated/aurora_city.blend', '//..\\Bob Ross -Nothern Lights- Scene -Animated\\aurora_city.blend', parent '<direct>'\n",
            "Warning: Unable to open '/content/drive/MyDrive/Bob Ross -Nothern Lights- Scene -Animated/aurora_city.blend': No such file or directory\n",
            "Info: Cannot find lib '/content/drive/MyDrive/Bob Ross -Nothern Lights- Scene -Animated/aurora_city.blend'\n",
            "Info: LIB: Mesh: 'Plane.003' missing from '/content/drive/MyDrive/Bob Ross -Nothern Lights- Scene -Animated/aurora_city.blend', parent '<direct>'\n",
            "Info: LIB: Material: 'Material.015' missing from '/content/drive/MyDrive/Bob Ross -Nothern Lights- Scene -Animated/aurora_city.blend', parent '<direct>'\n",
            "Info: LIB: Texture: 'Texture.003' missing from '/content/drive/MyDrive/Bob Ross -Nothern Lights- Scene -Animated/aurora_city.blend', parent '<direct>'\n",
            "Info: LIB: Texture: 'Texture.002' missing from '/content/drive/MyDrive/Bob Ross -Nothern Lights- Scene -Animated/aurora_city.blend', parent '<direct>'\n",
            "Info: LIB: Action: 'Key.007Action' missing from '/content/drive/MyDrive/Bob Ross -Nothern Lights- Scene -Animated/aurora_city.blend', parent '<direct>'\n",
            "Info: LIB: Action: 'Key.008Action' missing from '/content/drive/MyDrive/Bob Ross -Nothern Lights- Scene -Animated/aurora_city.blend', parent '<direct>'\n",
            "Info: LIB: Action: 'Shader NodetreeAction.001' missing from '/content/drive/MyDrive/Bob Ross -Nothern Lights- Scene -Animated/aurora_city.blend', parent '<direct>'\n",
            "Warning: 1 libraries and 7 linked data-blocks are missing (including 0 ObjectData and 0 Proxies), please check the Info and Outliner editors for details\n",
            "<bpy_struct, CyclesPreferences at 0x7fa3b1375228>\n",
            "Device found: CUDA\n",
            "Activating <bpy_struct, CyclesDeviceSettings(\"Tesla P100-PCIE-16GB\") at 0x7fa3b1e60888>\n",
            "Activating <bpy_struct, CyclesDeviceSettings(\"Tesla P100-PCIE-16GB\") at 0x7fa3b1e60998>\n",
            "Fra:1 Mem:387.05M (Peak 388.07M) | Time:00:00.42 | Mem:0.00M, Peak:0.00M | Scene, View Layer | Synchronizing object | map_9.osm_buildings\n",
            "Fra:1 Mem:407.39M (Peak 407.39M) | Time:00:00.44 | Mem:0.00M, Peak:0.00M | Scene, View Layer | Synchronizing object | Cube\n",
            "Fra:1 Mem:407.39M (Peak 407.39M) | Time:00:00.44 | Mem:0.00M, Peak:0.00M | Scene, View Layer | Synchronizing object | Cube.001\n",
            "Fra:1 Mem:407.40M (Peak 407.40M) | Time:00:00.44 | Mem:0.00M, Peak:0.00M | Scene, View Layer | Synchronizing object | Cube.002\n",
            "Fra:1 Mem:407.40M (Peak 407.40M) | Time:00:00.44 | Mem:0.00M, Peak:0.00M | Scene, View Layer | Synchronizing object | Cube.005\n",
            "Fra:1 Mem:407.40M (Peak 407.40M) | Time:00:00.44 | Mem:0.00M, Peak:0.00M | Scene, View Layer | Synchronizing object | Cylinder.001\n",
            "Fra:1 Mem:407.42M (Peak 407.42M) | Time:00:00.44 | Mem:0.00M, Peak:0.00M | Scene, View Layer | Synchronizing object | Cylinder\n",
            "Fra:1 Mem:407.46M (Peak 407.47M) | Time:00:00.44 | Mem:0.00M, Peak:0.00M | Scene, View Layer | Synchronizing object | map_9.osm_buildings.002\n",
            "Fra:1 Mem:420.06M (Peak 425.80M) | Time:00:00.59 | Mem:0.00M, Peak:0.00M | Scene, View Layer | Synchronizing object | map_9.osm_buildings.001\n",
            "Fra:1 Mem:428.85M (Peak 432.61M) | Time:00:00.69 | Mem:0.00M, Peak:0.00M | Scene, View Layer | Synchronizing object | Cylinder.002\n",
            "Fra:1 Mem:428.90M (Peak 432.61M) | Time:00:00.69 | Mem:0.00M, Peak:0.00M | Scene, View Layer | Synchronizing object | Plane.002\n",
            "Fra:1 Mem:428.90M (Peak 432.61M) | Time:00:00.69 | Mem:0.00M, Peak:0.00M | Scene, View Layer | Synchronizing object | Plane.008\n",
            "Fra:1 Mem:429.09M (Peak 432.61M) | Time:00:00.69 | Mem:0.00M, Peak:0.00M | Scene, View Layer | Synchronizing object | Terrain\n",
            "Fra:1 Mem:431.94M (Peak 432.66M) | Time:00:00.70 | Mem:0.00M, Peak:0.00M | Scene, View Layer | Synchronizing object | Plane\n",
            "Fra:1 Mem:432.12M (Peak 432.66M) | Time:00:00.70 | Mem:0.00M, Peak:0.00M | Scene, View Layer | Synchronizing object | TexturesCom_Skies0372_3_masked_S.001\n",
            "Fra:1 Mem:432.12M (Peak 432.66M) | Time:00:00.70 | Mem:0.00M, Peak:0.00M | Scene, View Layer | Synchronizing object | TexturesCom_Skies0380_3_masked_S\n",
            "Fra:1 Mem:432.12M (Peak 432.66M) | Time:00:00.70 | Mem:0.00M, Peak:0.00M | Scene, View Layer | Synchronizing object | TexturesCom_Skies0376_3_masked_S\n",
            "Fra:1 Mem:432.12M (Peak 432.66M) | Time:00:00.70 | Mem:0.00M, Peak:0.00M | Scene, View Layer | Synchronizing object | TexturesCom_Skies0372_3_masked_S\n",
            "Fra:1 Mem:432.13M (Peak 432.66M) | Time:00:00.70 | Mem:0.00M, Peak:0.00M | Scene, View Layer | Synchronizing object | Cube.004\n",
            "Fra:1 Mem:432.13M (Peak 432.66M) | Time:00:00.70 | Mem:0.00M, Peak:0.00M | Scene, View Layer | Synchronizing object | Cube.003\n",
            "Fra:1 Mem:432.13M (Peak 432.66M) | Time:00:00.70 | Mem:0.00M, Peak:0.00M | Scene, View Layer | Synchronizing object | Icosphere\n",
            "Fra:1 Mem:432.13M (Peak 433.03M) | Time:00:00.71 | Mem:0.00M, Peak:0.00M | Scene, View Layer | Initializing\n",
            "Fra:1 Mem:388.49M (Peak 444.46M) | Time:00:00.91 | Mem:0.00M, Peak:0.00M | Scene, View Layer | Updating Images | Loading TexturesCom_Skies0380_3_masked_S.png\n",
            "Fra:1 Mem:388.49M (Peak 444.46M) | Time:00:00.91 | Mem:0.00M, Peak:0.00M | Scene, View Layer | Updating Images | Loading quarry_01_4k.hdr\n",
            "Fra:1 Mem:679.86M (Peak 686.54M) | Time:00:01.36 | Mem:3.34M, Peak:3.34M | Scene, View Layer | Updating Images | Loading TexturesCom_Skies0376_3_masked_S.png\n",
            "Fra:1 Mem:684.68M (Peak 694.31M) | Time:00:01.62 | Mem:8.16M, Peak:8.16M | Scene, View Layer | Updating Images | Loading TexturesCom_Skies0372_3_masked_S.png\n",
            "Fra:1 Mem:690.22M (Peak 701.33M) | Time:00:01.68 | Mem:13.70M, Peak:13.70M | Scene, View Layer | Updating Images | Loading TexturesCom_Aircos0023_S.jpg\n",
            "Fra:1 Mem:693.92M (Peak 701.33M) | Time:00:01.70 | Mem:17.39M, Peak:17.39M | Scene, View Layer | Updating Images | Loading TexturesCom_Aircos0121_1_S.jpg\n",
            "Fra:1 Mem:696.64M (Peak 702.11M) | Time:00:01.72 | Mem:20.12M, Peak:20.12M | Scene, View Layer | Updating Images | Loading TexturesCom_Aircos0086_S.jpg\n",
            "Fra:1 Mem:699.17M (Peak 704.25M) | Time:00:01.74 | Mem:22.65M, Peak:22.65M | Scene, View Layer | Updating Images | Loading overlay.png.002\n",
            "Fra:1 Mem:663.89M (Peak 919.90M) | Time:00:02.41 | Mem:150.65M, Peak:150.65M | Scene, View Layer | Updating Images | Loading syferfontein_1d_clear_4k.hdr\n",
            "Fra:1 Mem:898.42M (Peak 1040.93M) | Time:00:02.87 | Mem:221.90M, Peak:221.90M | Scene, View Layer | Updating Images | Loading TexturesCom_HighRiseNight0083_1_M.jpg\n",
            "Fra:1 Mem:905.53M (Peak 1040.93M) | Time:00:02.93 | Mem:229.01M, Peak:229.01M | Scene, View Layer | Updating Images | Loading TexturesCom_HighRiseNight0038_1_M.jpg\n",
            "Fra:1 Mem:912.37M (Peak 1040.93M) | Time:00:02.99 | Mem:235.85M, Peak:235.85M | Scene, View Layer | Updating Images | Loading TexturesCom_HighRiseTowerblocks0023_1_M.jpg\n",
            "Fra:1 Mem:919.70M (Peak 1040.93M) | Time:00:03.04 | Mem:243.18M, Peak:243.18M | Scene, View Layer | Updating Images | Loading TexturesCom_HighRiseTowerblocks0043_1_S.jpg\n",
            "Fra:1 Mem:922.87M (Peak 1040.93M) | Time:00:03.06 | Mem:246.35M, Peak:246.35M | Scene, View Layer | Updating Images | Loading TexturesCom_BuildingsIndustrial0006_2_M.jpg\n",
            "Fra:1 Mem:929.17M (Peak 1040.93M) | Time:00:03.10 | Mem:252.65M, Peak:252.65M | Scene, View Layer | Updating Images | Loading TexturesCom_HighRiseResidential0160_1_seamless_S.jpg\n",
            "Fra:1 Mem:932.84M (Peak 1040.93M) | Time:00:03.13 | Mem:256.32M, Peak:256.32M | Scene, View Layer | Updating Images | Loading TexturesCom_BuildingsHouseOld0262_1_M.jpg\n",
            "Fra:1 Mem:939.84M (Peak 1040.93M) | Time:00:03.19 | Mem:263.32M, Peak:263.32M | Scene, View Layer | Updating Images | Loading TexturesCom_BuildingsHighRise0546_2_M.jpg\n",
            "Fra:1 Mem:946.56M (Peak 1040.93M) | Time:00:03.24 | Mem:270.04M, Peak:270.04M | Scene, View Layer | Updating Images | Loading TexturesCom_BuildingsIndustrial0097_1_M.jpg\n",
            "Fra:1 Mem:826.62M (Peak 1040.93M) | Time:00:03.32 | Mem:278.10M, Peak:278.10M | Scene, View Layer | Updating Images | Loading TexturesCom_BuildingsHighRise0294_1_seamless_S.jpg\n",
            "Fra:1 Mem:830.55M (Peak 1040.93M) | Time:00:03.35 | Mem:282.03M, Peak:282.03M | Scene, View Layer | Updating Images | Loading TexturesCom_BuildingsTallHouse0117_M.jpg\n",
            "Fra:1 Mem:804.66M (Peak 1040.93M) | Time:00:03.40 | Mem:288.14M, Peak:288.14M | Scene, View Layer | Updating Images | Loading TexturesCom_BuildingsIndustrial0114_M.jpg\n",
            "Fra:1 Mem:752.88M (Peak 1080.36M) | Time:00:03.67 | Mem:422.70M, Peak:422.70M | Scene, View Layer | Waiting for render to start\n",
            "Fra:1 Mem:752.88M (Peak 1080.36M) | Time:00:03.67 | Mem:422.70M, Peak:422.70M | Scene, View Layer | Loading render kernels (may take a few minutes the first time)\n",
            "Fra:1 Mem:752.88M (Peak 1080.36M) | Time:00:03.72 | Mem:422.70M, Peak:422.70M | Scene, View Layer | Updating Scene\n",
            "Fra:1 Mem:752.88M (Peak 1080.36M) | Time:00:03.72 | Mem:422.70M, Peak:422.70M | Scene, View Layer | Updating Shaders\n",
            "Fra:1 Mem:753.62M (Peak 1080.36M) | Time:00:03.83 | Mem:422.93M, Peak:422.93M | Scene, View Layer | Updating Procedurals\n",
            "Fra:1 Mem:753.62M (Peak 1080.36M) | Time:00:03.83 | Mem:422.93M, Peak:422.93M | Scene, View Layer | Updating Background\n",
            "Fra:1 Mem:753.62M (Peak 1080.36M) | Time:00:03.83 | Mem:422.93M, Peak:422.93M | Scene, View Layer | Updating Camera\n",
            "Fra:1 Mem:753.62M (Peak 1080.36M) | Time:00:03.83 | Mem:422.93M, Peak:422.93M | Scene, View Layer | Updating Meshes Flags\n",
            "Fra:1 Mem:753.62M (Peak 1080.36M) | Time:00:03.83 | Mem:422.93M, Peak:422.93M | Scene, View Layer | Updating Objects\n",
            "Fra:1 Mem:753.62M (Peak 1080.36M) | Time:00:03.83 | Mem:422.93M, Peak:422.93M | Scene, View Layer | Updating Objects | Copying Transformations to device\n",
            "Fra:1 Mem:757.43M (Peak 1080.36M) | Time:00:03.84 | Mem:430.60M, Peak:430.60M | Scene, View Layer | Updating Objects | Applying Static Transformations\n",
            "Fra:1 Mem:757.43M (Peak 1080.36M) | Time:00:03.84 | Mem:430.60M, Peak:430.60M | Scene, View Layer | Updating Particle Systems\n",
            "Fra:1 Mem:757.43M (Peak 1080.36M) | Time:00:03.84 | Mem:430.60M, Peak:430.60M | Scene, View Layer | Updating Particle Systems | Copying Particles to device\n",
            "Fra:1 Mem:757.43M (Peak 1080.36M) | Time:00:03.84 | Mem:430.60M, Peak:430.60M | Scene, View Layer | Updating Meshes\n",
            "Fra:1 Mem:763.55M (Peak 1080.36M) | Time:00:03.85 | Mem:430.60M, Peak:430.60M | Scene, View Layer | Updating Mesh | Computing attributes\n",
            "Fra:1 Mem:779.21M (Peak 1080.36M) | Time:00:03.87 | Mem:430.61M, Peak:430.61M | Scene, View Layer | Updating Mesh | Copying Attributes to device\n",
            "Fra:1 Mem:777.10M (Peak 1080.36M) | Time:00:03.87 | Mem:444.16M, Peak:444.16M | Scene, View Layer | Updating Geometry BVH Plane 12/12 | Building BVH\n",
            "Fra:1 Mem:777.32M (Peak 1080.36M) | Time:00:03.88 | Mem:444.16M, Peak:444.16M | Scene, View Layer | Updating Geometry BVH Cube 1/12 | Building BVH\n",
            "Fra:1 Mem:777.32M (Peak 1080.36M) | Time:00:03.88 | Mem:444.16M, Peak:444.16M | Scene, View Layer | Updating Geometry BVH Cube 1/12 | Packing BVH triangles and strands\n",
            "Fra:1 Mem:777.32M (Peak 1080.36M) | Time:00:03.88 | Mem:444.16M, Peak:444.16M | Scene, View Layer | Updating Geometry BVH Cube 1/12 | Packing BVH nodes\n",
            "Fra:1 Mem:777.32M (Peak 1080.36M) | Time:00:03.88 | Mem:444.16M, Peak:444.16M | Scene, View Layer | Updating Geometry BVH Cube.001 2/12 | Building BVH\n",
            "Fra:1 Mem:777.33M (Peak 1080.36M) | Time:00:03.88 | Mem:444.16M, Peak:444.16M | Scene, View Layer | Updating Geometry BVH Cube.001 2/12 | Packing BVH triangles and strands\n",
            "Fra:1 Mem:777.33M (Peak 1080.36M) | Time:00:03.88 | Mem:444.16M, Peak:444.16M | Scene, View Layer | Updating Geometry BVH Cube.001 2/12 | Packing BVH nodes\n",
            "Fra:1 Mem:777.33M (Peak 1080.36M) | Time:00:03.88 | Mem:444.16M, Peak:444.16M | Scene, View Layer | Updating Geometry BVH Cube.002 3/12 | Building BVH\n",
            "Fra:1 Mem:777.33M (Peak 1080.36M) | Time:00:03.88 | Mem:444.16M, Peak:444.16M | Scene, View Layer | Updating Geometry BVH Cube.002 3/12 | Packing BVH triangles and strands\n",
            "Fra:1 Mem:777.33M (Peak 1080.36M) | Time:00:03.88 | Mem:444.16M, Peak:444.16M | Scene, View Layer | Updating Geometry BVH Cube.002 3/12 | Packing BVH nodes\n",
            "Fra:1 Mem:777.33M (Peak 1080.36M) | Time:00:03.88 | Mem:444.16M, Peak:444.16M | Scene, View Layer | Updating Geometry BVH Cube.005 4/12 | Building BVH\n",
            "Fra:1 Mem:777.33M (Peak 1080.36M) | Time:00:03.88 | Mem:444.16M, Peak:444.16M | Scene, View Layer | Updating Geometry BVH Cube.005 4/12 | Packing BVH triangles and strands\n",
            "Fra:1 Mem:777.33M (Peak 1080.36M) | Time:00:03.88 | Mem:444.16M, Peak:444.16M | Scene, View Layer | Updating Geometry BVH Cube.005 4/12 | Packing BVH nodes\n",
            "Fra:1 Mem:777.33M (Peak 1080.36M) | Time:00:03.88 | Mem:444.16M, Peak:444.16M | Scene, View Layer | Updating Geometry BVH Cylinder.001 5/12 | Building BVH\n",
            "Fra:1 Mem:777.34M (Peak 1080.36M) | Time:00:03.88 | Mem:444.16M, Peak:444.16M | Scene, View Layer | Updating Geometry BVH Cylinder.001 5/12 | Packing BVH triangles and strands\n",
            "Fra:1 Mem:777.34M (Peak 1080.36M) | Time:00:03.88 | Mem:444.16M, Peak:444.16M | Scene, View Layer | Updating Geometry BVH Cylinder.001 5/12 | Packing BVH nodes\n",
            "Fra:1 Mem:777.33M (Peak 1080.36M) | Time:00:03.88 | Mem:444.16M, Peak:444.16M | Scene, View Layer | Updating Geometry BVH Cylinder 6/12 | Building BVH\n",
            "Fra:1 Mem:777.36M (Peak 1080.36M) | Time:00:03.88 | Mem:444.16M, Peak:444.16M | Scene, View Layer | Updating Geometry BVH Cylinder 6/12 | Packing BVH triangles and strands\n",
            "Fra:1 Mem:777.36M (Peak 1080.36M) | Time:00:03.88 | Mem:444.16M, Peak:444.16M | Scene, View Layer | Updating Geometry BVH Cylinder 6/12 | Packing BVH nodes\n",
            "Fra:1 Mem:777.35M (Peak 1080.36M) | Time:00:03.88 | Mem:444.16M, Peak:444.16M | Scene, View Layer | Updating Geometry BVH map_9.osm_buildings.002 7/12 | Building BVH\n",
            "Fra:1 Mem:777.35M (Peak 1080.36M) | Time:00:03.88 | Mem:444.16M, Peak:444.16M | Scene, View Layer | Updating Geometry BVH map_9.osm_buildings.002 7/12 | Packing BVH triangles and strands\n",
            "Fra:1 Mem:777.35M (Peak 1080.36M) | Time:00:03.88 | Mem:444.16M, Peak:444.16M | Scene, View Layer | Updating Geometry BVH map_9.osm_buildings.002 7/12 | Packing BVH nodes\n",
            "Fra:1 Mem:777.35M (Peak 1080.36M) | Time:00:03.88 | Mem:444.16M, Peak:444.16M | Scene, View Layer | Updating Geometry BVH TexturesCom_Skies0372_3_masked_S 8/12 | Building BVH\n",
            "Fra:1 Mem:777.35M (Peak 1080.36M) | Time:00:03.88 | Mem:444.16M, Peak:444.16M | Scene, View Layer | Updating Geometry BVH TexturesCom_Skies0372_3_masked_S 8/12 | Packing BVH triangles and strands\n",
            "Fra:1 Mem:777.35M (Peak 1080.36M) | Time:00:03.88 | Mem:444.16M, Peak:444.16M | Scene, View Layer | Updating Geometry BVH TexturesCom_Skies0372_3_masked_S 8/12 | Packing BVH nodes\n",
            "Fra:1 Mem:777.35M (Peak 1080.36M) | Time:00:03.88 | Mem:444.16M, Peak:444.16M | Scene, View Layer | Updating Geometry BVH TexturesCom_Skies0376_3_masked_S 9/12 | Building BVH\n",
            "Fra:1 Mem:777.35M (Peak 1080.36M) | Time:00:03.88 | Mem:444.16M, Peak:444.16M | Scene, View Layer | Updating Geometry BVH TexturesCom_Skies0376_3_masked_S 9/12 | Packing BVH triangles and strands\n",
            "Fra:1 Mem:777.35M (Peak 1080.36M) | Time:00:03.88 | Mem:444.16M, Peak:444.16M | Scene, View Layer | Updating Geometry BVH TexturesCom_Skies0376_3_masked_S 9/12 | Packing BVH nodes\n",
            "Fra:1 Mem:777.35M (Peak 1080.36M) | Time:00:03.88 | Mem:444.16M, Peak:444.16M | Scene, View Layer | Updating Geometry BVH TexturesCom_Skies0380_3_masked_S 10/12 | Building BVH\n",
            "Fra:1 Mem:777.35M (Peak 1080.36M) | Time:00:03.88 | Mem:444.16M, Peak:444.16M | Scene, View Layer | Updating Geometry BVH TexturesCom_Skies0380_3_masked_S 10/12 | Packing BVH triangles and strands\n",
            "Fra:1 Mem:777.35M (Peak 1080.36M) | Time:00:03.88 | Mem:444.16M, Peak:444.16M | Scene, View Layer | Updating Geometry BVH TexturesCom_Skies0380_3_masked_S 10/12 | Packing BVH nodes\n",
            "Fra:1 Mem:777.35M (Peak 1080.36M) | Time:00:03.88 | Mem:444.16M, Peak:444.16M | Scene, View Layer | Updating Geometry BVH TexturesCom_Skies0372_3_masked_S.001 11/12 | Building BVH\n",
            "Fra:1 Mem:777.36M (Peak 1080.36M) | Time:00:03.88 | Mem:444.16M, Peak:444.16M | Scene, View Layer | Updating Geometry BVH TexturesCom_Skies0372_3_masked_S.001 11/12 | Packing BVH triangles and strands\n",
            "Fra:1 Mem:777.36M (Peak 1080.36M) | Time:00:03.88 | Mem:444.16M, Peak:444.16M | Scene, View Layer | Updating Geometry BVH TexturesCom_Skies0372_3_masked_S.001 11/12 | Packing BVH nodes\n",
            "Fra:1 Mem:777.35M (Peak 1080.36M) | Time:00:03.88 | Mem:444.16M, Peak:444.16M | Scene, View Layer | Updating Geometry BVH TexturesCom_Skies0372_3_masked_S.001 11/12 | Packing BVH triangles and strands\n",
            "Fra:1 Mem:777.37M (Peak 1080.36M) | Time:00:03.88 | Mem:444.16M, Peak:444.16M | Scene, View Layer | Updating Geometry BVH TexturesCom_Skies0372_3_masked_S.001 11/12 | Packing BVH nodes\n",
            "Fra:1 Mem:777.25M (Peak 1080.36M) | Time:00:03.93 | Mem:444.16M, Peak:444.16M | Scene, View Layer | Updating Scene BVH | Building\n",
            "Fra:1 Mem:777.51M (Peak 1080.36M) | Time:00:03.93 | Mem:444.16M, Peak:444.16M | Scene, View Layer | Updating Scene BVH | Building BVH\n",
            "Fra:1 Mem:802.42M (Peak 1080.36M) | Time:00:04.20 | Mem:444.16M, Peak:444.16M | Scene, View Layer | Updating Scene BVH | Building BVH 58%, duplicates 0%\n",
            "Fra:1 Mem:802.42M (Peak 1080.36M) | Time:00:04.32 | Mem:444.16M, Peak:444.16M | Scene, View Layer | Updating Scene BVH | Packing BVH triangles and strands\n",
            "Fra:1 Mem:804.06M (Peak 1080.36M) | Time:00:04.33 | Mem:444.16M, Peak:444.16M | Scene, View Layer | Updating Scene BVH | Packing BVH nodes\n",
            "Fra:1 Mem:809.14M (Peak 1080.36M) | Time:00:04.38 | Mem:444.16M, Peak:444.16M | Scene, View Layer | Updating Scene BVH | Copying BVH to device\n",
            "Fra:1 Mem:809.14M (Peak 1080.36M) | Time:00:04.39 | Mem:459.97M, Peak:459.97M | Scene, View Layer | Updating Mesh | Computing normals\n",
            "Fra:1 Mem:839.69M (Peak 1080.36M) | Time:00:04.41 | Mem:459.97M, Peak:459.97M | Scene, View Layer | Updating Mesh | Copying Mesh to device\n",
            "Fra:1 Mem:839.69M (Peak 1080.36M) | Time:00:04.41 | Mem:490.52M, Peak:490.52M | Scene, View Layer | Updating Objects Flags\n",
            "Fra:1 Mem:839.69M (Peak 1080.36M) | Time:00:04.42 | Mem:490.78M, Peak:490.78M | Scene, View Layer | Updating Primitive Offsets\n",
            "Fra:1 Mem:839.69M (Peak 1080.36M) | Time:00:04.42 | Mem:490.78M, Peak:490.78M | Scene, View Layer | Updating Images\n",
            "Fra:1 Mem:711.69M (Peak 1080.36M) | Time:00:04.42 | Mem:362.78M, Peak:490.78M | Scene, View Layer | Updating Camera Volume\n",
            "Fra:1 Mem:711.69M (Peak 1080.36M) | Time:00:04.42 | Mem:362.78M, Peak:490.78M | Scene, View Layer | Updating Lookup Tables\n",
            "Fra:1 Mem:711.69M (Peak 1080.36M) | Time:00:04.42 | Mem:363.03M, Peak:490.78M | Scene, View Layer | Updating Lights\n",
            "Fra:1 Mem:711.69M (Peak 1080.36M) | Time:00:04.42 | Mem:363.03M, Peak:490.78M | Scene, View Layer | Updating Lights | Computing distribution\n",
            "Fra:1 Mem:711.88M (Peak 1080.36M) | Time:00:04.43 | Mem:363.22M, Peak:490.78M | Scene, View Layer | Updating Lights | Importance map\n",
            "E1219 16:26:33.859884  4551 shader_eval.cpp:47] Multi-devices are not yet fully implemented, will evaluate shader on a single device.\n",
            "Fra:1 Mem:775.91M (Peak 1080.36M) | Time:00:04.79 | Mem:427.25M, Peak:490.78M | Scene, View Layer | Updating Integrator\n",
            "Fra:1 Mem:775.92M (Peak 1080.36M) | Time:00:04.79 | Mem:427.26M, Peak:490.78M | Scene, View Layer | Updating Film\n",
            "Fra:1 Mem:775.92M (Peak 1080.36M) | Time:00:04.79 | Mem:427.01M, Peak:490.78M | Scene, View Layer | Updating Lookup Tables\n",
            "Fra:1 Mem:775.92M (Peak 1080.36M) | Time:00:04.79 | Mem:427.26M, Peak:490.78M | Scene, View Layer | Updating Baking\n",
            "Fra:1 Mem:775.92M (Peak 1080.36M) | Time:00:04.79 | Mem:427.26M, Peak:490.78M | Scene, View Layer | Updating Device | Writing constant memory\n",
            "Fra:1 Mem:783.45M (Peak 1080.36M) | Time:00:04.79 | Mem:427.26M, Peak:490.78M | Scene, View Layer | Sample 0/300\n",
            "Fra:1 Mem:830.91M (Peak 1080.36M) | Time:00:31.33 | Remaining:02:12:15.19 | Mem:427.26M, Peak:490.78M | Scene, View Layer | Sample 1/300\n",
            "Fra:1 Mem:830.92M (Peak 1080.36M) | Time:00:36.89 | Remaining:01:19:42.57 | Mem:427.26M, Peak:490.78M | Scene, View Layer | Sample 2/300\n",
            "Fra:1 Mem:830.92M (Peak 1080.36M) | Time:00:40.85 | Remaining:59:29.29 | Mem:427.26M, Peak:490.78M | Scene, View Layer | Sample 3/300\n",
            "Fra:1 Mem:830.92M (Peak 1080.36M) | Time:00:44.25 | Remaining:48:40.01 | Mem:427.26M, Peak:490.78M | Scene, View Layer | Sample 4/300\n",
            "Fra:1 Mem:830.92M (Peak 1080.36M) | Time:00:47.36 | Remaining:41:51.47 | Mem:427.26M, Peak:490.78M | Scene, View Layer | Sample 5/300\n",
            "Fra:1 Mem:830.92M (Peak 1080.36M) | Time:00:50.26 | Remaining:37:07.89 | Mem:427.26M, Peak:490.78M | Scene, View Layer | Sample 6/300\n",
            "Fra:1 Mem:830.92M (Peak 1080.36M) | Time:00:53.09 | Remaining:33:41.39 | Mem:427.26M, Peak:490.78M | Scene, View Layer | Sample 7/300\n",
            "Fra:1 Mem:830.92M (Peak 1080.36M) | Time:01:04.28 | Remaining:26:02.82 | Mem:427.26M, Peak:490.78M | Scene, View Layer | Sample 11/300\n",
            "Fra:1 Mem:830.92M (Peak 1080.36M) | Time:01:15.53 | Remaining:22:24.02 | Mem:427.26M, Peak:490.78M | Scene, View Layer | Sample 15/300\n",
            "Fra:1 Mem:830.92M (Peak 1080.36M) | Time:01:37.31 | Remaining:18:34.23 | Mem:427.26M, Peak:490.78M | Scene, View Layer | Sample 23/300\n",
            "Fra:1 Mem:830.92M (Peak 1080.36M) | Time:01:57.69 | Remaining:16:19.61 | Mem:427.26M, Peak:490.78M | Scene, View Layer | Sample 31/300\n",
            "Fra:1 Mem:830.92M (Peak 1080.36M) | Time:02:17.85 | Remaining:14:50.47 | Mem:427.26M, Peak:490.78M | Scene, View Layer | Sample 39/300\n",
            "Fra:1 Mem:830.92M (Peak 1080.36M) | Time:02:38.20 | Remaining:13:45.76 | Mem:427.26M, Peak:490.78M | Scene, View Layer | Sample 47/300\n",
            "Fra:1 Mem:830.92M (Peak 1080.36M) | Time:02:58.56 | Remaining:12:54.06 | Mem:427.26M, Peak:490.78M | Scene, View Layer | Sample 55/300\n",
            "Fra:1 Mem:830.92M (Peak 1080.36M) | Time:03:18.87 | Remaining:12:10.07 | Mem:427.26M, Peak:490.78M | Scene, View Layer | Sample 63/300\n",
            "Fra:1 Mem:830.92M (Peak 1080.36M) | Time:03:39.23 | Remaining:11:31.62 | Mem:427.26M, Peak:490.78M | Scene, View Layer | Sample 71/300\n",
            "Fra:1 Mem:830.92M (Peak 1080.36M) | Time:03:59.58 | Remaining:10:56.81 | Mem:427.26M, Peak:490.78M | Scene, View Layer | Sample 79/300\n",
            "Fra:1 Mem:830.92M (Peak 1080.36M) | Time:04:19.94 | Remaining:10:24.67 | Mem:427.26M, Peak:490.78M | Scene, View Layer | Sample 87/300\n",
            "Fra:1 Mem:830.92M (Peak 1080.36M) | Time:04:40.33 | Remaining:09:54.57 | Mem:427.26M, Peak:490.78M | Scene, View Layer | Sample 95/300\n",
            "Fra:1 Mem:830.92M (Peak 1080.36M) | Time:05:00.58 | Remaining:09:25.72 | Mem:427.26M, Peak:490.78M | Scene, View Layer | Sample 103/300\n",
            "Fra:1 Mem:830.92M (Peak 1080.36M) | Time:05:20.91 | Remaining:08:58.24 | Mem:427.26M, Peak:490.78M | Scene, View Layer | Sample 111/300\n",
            "Fra:1 Mem:830.92M (Peak 1080.36M) | Time:05:41.26 | Remaining:08:31.77 | Mem:427.26M, Peak:490.78M | Scene, View Layer | Sample 119/300\n",
            "Fra:1 Mem:830.92M (Peak 1080.36M) | Time:06:01.60 | Remaining:08:06.04 | Mem:427.26M, Peak:490.78M | Scene, View Layer | Sample 127/300\n",
            "Fra:1 Mem:830.92M (Peak 1080.36M) | Time:06:21.99 | Remaining:07:41.01 | Mem:427.26M, Peak:490.78M | Scene, View Layer | Sample 135/300\n",
            "Fra:1 Mem:830.92M (Peak 1080.36M) | Time:06:42.36 | Remaining:07:16.48 | Mem:427.26M, Peak:490.78M | Scene, View Layer | Sample 143/300\n",
            "Fra:1 Mem:830.92M (Peak 1080.36M) | Time:07:02.72 | Remaining:06:52.39 | Mem:427.26M, Peak:490.78M | Scene, View Layer | Sample 151/300\n",
            "Fra:1 Mem:830.92M (Peak 1080.36M) | Time:07:23.01 | Remaining:06:28.60 | Mem:427.26M, Peak:490.78M | Scene, View Layer | Sample 159/300\n",
            "Fra:1 Mem:830.92M (Peak 1080.36M) | Time:07:43.33 | Remaining:06:05.18 | Mem:427.26M, Peak:490.78M | Scene, View Layer | Sample 167/300\n",
            "Fra:1 Mem:830.92M (Peak 1080.36M) | Time:08:03.69 | Remaining:05:42.06 | Mem:427.26M, Peak:490.78M | Scene, View Layer | Sample 175/300\n",
            "Fra:1 Mem:830.92M (Peak 1080.36M) | Time:08:23.91 | Remaining:05:19.10 | Mem:427.26M, Peak:490.78M | Scene, View Layer | Sample 183/300\n",
            "Fra:1 Mem:830.92M (Peak 1080.36M) | Time:08:44.24 | Remaining:04:56.43 | Mem:427.26M, Peak:490.78M | Scene, View Layer | Sample 191/300\n",
            "Fra:1 Mem:830.92M (Peak 1080.36M) | Time:09:04.63 | Remaining:04:33.98 | Mem:427.26M, Peak:490.78M | Scene, View Layer | Sample 199/300\n",
            "Fra:1 Mem:830.92M (Peak 1080.36M) | Time:09:24.97 | Remaining:04:11.67 | Mem:427.26M, Peak:490.78M | Scene, View Layer | Sample 207/300\n",
            "Fra:1 Mem:830.92M (Peak 1080.36M) | Time:09:45.35 | Remaining:03:49.52 | Mem:427.26M, Peak:490.78M | Scene, View Layer | Sample 215/300\n",
            "Fra:1 Mem:830.92M (Peak 1080.36M) | Time:10:05.70 | Remaining:03:27.48 | Mem:427.26M, Peak:490.78M | Scene, View Layer | Sample 223/300\n",
            "Fra:1 Mem:830.92M (Peak 1080.36M) | Time:10:25.94 | Remaining:03:05.53 | Mem:427.26M, Peak:490.78M | Scene, View Layer | Sample 231/300\n",
            "Fra:1 Mem:830.92M (Peak 1080.36M) | Time:10:46.29 | Remaining:02:43.72 | Mem:427.26M, Peak:490.78M | Scene, View Layer | Sample 239/300\n",
            "Fra:1 Mem:830.92M (Peak 1080.36M) | Time:11:06.60 | Remaining:02:22.00 | Mem:427.26M, Peak:490.78M | Scene, View Layer | Sample 247/300\n",
            "Fra:1 Mem:830.92M (Peak 1080.36M) | Time:11:26.94 | Remaining:02:00.37 | Mem:427.26M, Peak:490.78M | Scene, View Layer | Sample 255/300\n",
            "Fra:1 Mem:830.92M (Peak 1080.36M) | Time:11:47.35 | Remaining:01:38.83 | Mem:427.26M, Peak:490.78M | Scene, View Layer | Sample 263/300\n",
            "Fra:1 Mem:830.92M (Peak 1080.36M) | Time:12:07.68 | Remaining:01:17.35 | Mem:427.26M, Peak:490.78M | Scene, View Layer | Sample 271/300\n",
            "Fra:1 Mem:830.92M (Peak 1080.36M) | Time:12:27.96 | Remaining:00:55.93 | Mem:427.26M, Peak:490.78M | Scene, View Layer | Sample 279/300\n",
            "Fra:1 Mem:830.92M (Peak 1080.36M) | Time:12:48.43 | Remaining:00:34.58 | Mem:427.26M, Peak:490.78M | Scene, View Layer | Sample 287/300\n",
            "Fra:1 Mem:830.92M (Peak 1080.36M) | Time:13:08.80 | Remaining:00:13.28 | Mem:427.26M, Peak:490.78M | Scene, View Layer | Sample 295/300\n",
            "Fra:1 Mem:878.38M (Peak 1080.36M) | Time:13:21.70 | Mem:427.26M, Peak:490.78M | Scene, View Layer | Sample 300/300\n",
            "Fra:1 Mem:878.38M (Peak 1080.36M) | Time:13:21.70 | Mem:427.26M, Peak:490.78M | Scene, View Layer | Finished\n",
            "Fra:1 Mem:338.62M (Peak 1080.36M) | Time:13:21.83 | Compositing\n",
            "Fra:1 Mem:338.62M (Peak 1080.36M) | Time:13:21.83 | Compositing | Determining resolution\n",
            "Fra:1 Mem:338.62M (Peak 1080.36M) | Time:13:21.83 | Compositing | Initializing execution\n",
            "Fra:1 Mem:473.17M (Peak 1080.36M) | Time:13:24.49 | Compositing | Tile 1-40\n",
            "Fra:1 Mem:473.17M (Peak 1080.36M) | Time:13:24.49 | Compositing | Tile 2-40\n",
            "Fra:1 Mem:473.17M (Peak 1080.36M) | Time:13:24.49 | Compositing | Tile 3-40\n",
            "Fra:1 Mem:473.17M (Peak 1080.36M) | Time:13:24.49 | Compositing | Tile 4-40\n",
            "Fra:1 Mem:473.17M (Peak 1080.36M) | Time:13:24.50 | Compositing | Tile 5-40\n",
            "Fra:1 Mem:473.17M (Peak 1080.36M) | Time:13:24.50 | Compositing | Tile 6-40\n",
            "Fra:1 Mem:473.17M (Peak 1080.36M) | Time:13:24.50 | Compositing | Tile 7-40\n",
            "Fra:1 Mem:473.17M (Peak 1080.36M) | Time:13:24.50 | Compositing | Tile 8-40\n",
            "Fra:1 Mem:473.17M (Peak 1080.36M) | Time:13:24.51 | Compositing | Tile 9-40\n",
            "Fra:1 Mem:473.17M (Peak 1080.36M) | Time:13:24.51 | Compositing | Tile 10-40\n",
            "Fra:1 Mem:473.17M (Peak 1080.36M) | Time:13:24.51 | Compositing | Tile 11-40\n",
            "Fra:1 Mem:473.17M (Peak 1080.36M) | Time:13:24.51 | Compositing | Tile 12-40\n",
            "Fra:1 Mem:473.17M (Peak 1080.36M) | Time:13:24.51 | Compositing | Tile 13-40\n",
            "Fra:1 Mem:473.17M (Peak 1080.36M) | Time:13:24.51 | Compositing | Tile 14-40\n",
            "Fra:1 Mem:473.17M (Peak 1080.36M) | Time:13:24.52 | Compositing | Tile 15-40\n",
            "Fra:1 Mem:473.17M (Peak 1080.36M) | Time:13:24.52 | Compositing | Tile 16-40\n",
            "Fra:1 Mem:473.17M (Peak 1080.36M) | Time:13:24.52 | Compositing | Tile 17-40\n",
            "Fra:1 Mem:473.17M (Peak 1080.36M) | Time:13:24.52 | Compositing | Tile 18-40\n",
            "Fra:1 Mem:473.17M (Peak 1080.36M) | Time:13:24.53 | Compositing | Tile 19-40\n",
            "Fra:1 Mem:473.17M (Peak 1080.36M) | Time:13:24.53 | Compositing | Tile 20-40\n",
            "Fra:1 Mem:473.17M (Peak 1080.36M) | Time:13:24.53 | Compositing | Tile 21-40\n",
            "Fra:1 Mem:473.17M (Peak 1080.36M) | Time:13:24.53 | Compositing | Tile 22-40\n",
            "Fra:1 Mem:473.17M (Peak 1080.36M) | Time:13:24.53 | Compositing | Tile 23-40\n",
            "Fra:1 Mem:473.17M (Peak 1080.36M) | Time:13:24.54 | Compositing | Tile 24-40\n",
            "Fra:1 Mem:473.17M (Peak 1080.36M) | Time:13:24.54 | Compositing | Tile 25-40\n",
            "Fra:1 Mem:473.17M (Peak 1080.36M) | Time:13:24.54 | Compositing | Tile 26-40\n",
            "Fra:1 Mem:473.17M (Peak 1080.36M) | Time:13:24.54 | Compositing | Tile 27-40\n",
            "Fra:1 Mem:473.17M (Peak 1080.36M) | Time:13:24.54 | Compositing | Tile 28-40\n",
            "Fra:1 Mem:473.17M (Peak 1080.36M) | Time:13:24.54 | Compositing | Tile 29-40\n",
            "Fra:1 Mem:473.17M (Peak 1080.36M) | Time:13:24.54 | Compositing | Tile 30-40\n",
            "Fra:1 Mem:473.17M (Peak 1080.36M) | Time:13:24.55 | Compositing | Tile 31-40\n",
            "Fra:1 Mem:473.17M (Peak 1080.36M) | Time:13:24.55 | Compositing | Tile 32-40\n",
            "Fra:1 Mem:473.17M (Peak 1080.36M) | Time:13:24.55 | Compositing | Tile 33-40\n",
            "Fra:1 Mem:473.17M (Peak 1080.36M) | Time:13:24.55 | Compositing | Tile 34-40\n",
            "Fra:1 Mem:473.17M (Peak 1080.36M) | Time:13:24.55 | Compositing | Tile 35-40\n",
            "Fra:1 Mem:473.17M (Peak 1080.36M) | Time:13:24.55 | Compositing | Tile 36-40\n",
            "Fra:1 Mem:473.17M (Peak 1080.36M) | Time:13:24.56 | Compositing | Tile 37-40\n",
            "Fra:1 Mem:473.17M (Peak 1080.36M) | Time:13:24.56 | Compositing | Tile 38-40\n",
            "Fra:1 Mem:473.17M (Peak 1080.36M) | Time:13:24.56 | Compositing | Tile 39-40\n",
            "Fra:1 Mem:473.17M (Peak 1080.36M) | Time:13:24.56 | Compositing | Tile 40-40\n",
            "Fra:1 Mem:473.11M (Peak 1080.36M) | Time:13:24.56 | Compositing | De-initializing execution\n",
            "Saved: 'output/blender-01.tif'\n",
            " Time: 13:25.91 (Saving: 00:01.33)\n",
            "\n",
            "Fra:2 Mem:387.31M (Peak 1080.36M) | Time:00:00.43 | Mem:0.00M, Peak:0.00M | Scene, View Layer | Synchronizing object | map_9.osm_buildings\n",
            "Fra:2 Mem:407.64M (Peak 1080.36M) | Time:00:00.45 | Mem:0.00M, Peak:0.00M | Scene, View Layer | Synchronizing object | Cube\n",
            "Fra:2 Mem:407.65M (Peak 1080.36M) | Time:00:00.45 | Mem:0.00M, Peak:0.00M | Scene, View Layer | Synchronizing object | Cube.001\n",
            "Fra:2 Mem:407.65M (Peak 1080.36M) | Time:00:00.45 | Mem:0.00M, Peak:0.00M | Scene, View Layer | Synchronizing object | Cube.002\n",
            "Fra:2 Mem:407.66M (Peak 1080.36M) | Time:00:00.45 | Mem:0.00M, Peak:0.00M | Scene, View Layer | Synchronizing object | Cube.005\n",
            "Fra:2 Mem:407.66M (Peak 1080.36M) | Time:00:00.45 | Mem:0.00M, Peak:0.00M | Scene, View Layer | Synchronizing object | Cylinder.001\n",
            "Fra:2 Mem:407.67M (Peak 1080.36M) | Time:00:00.45 | Mem:0.00M, Peak:0.00M | Scene, View Layer | Synchronizing object | Cylinder\n",
            "Fra:2 Mem:407.71M (Peak 1080.36M) | Time:00:00.45 | Mem:0.00M, Peak:0.00M | Scene, View Layer | Synchronizing object | map_9.osm_buildings.002\n",
            "Fra:2 Mem:419.99M (Peak 1080.36M) | Time:00:00.58 | Mem:0.00M, Peak:0.00M | Scene, View Layer | Synchronizing object | map_9.osm_buildings.001\n",
            "Fra:2 Mem:428.05M (Peak 1080.36M) | Time:00:00.67 | Mem:0.00M, Peak:0.00M | Scene, View Layer | Synchronizing object | Cylinder.002\n",
            "Fra:2 Mem:428.09M (Peak 1080.36M) | Time:00:00.67 | Mem:0.00M, Peak:0.00M | Scene, View Layer | Synchronizing object | Plane.002\n",
            "Fra:2 Mem:428.09M (Peak 1080.36M) | Time:00:00.67 | Mem:0.00M, Peak:0.00M | Scene, View Layer | Synchronizing object | Plane.008\n",
            "Fra:2 Mem:428.45M (Peak 1080.36M) | Time:00:00.67 | Mem:0.00M, Peak:0.00M | Scene, View Layer | Synchronizing object | Terrain\n",
            "Fra:2 Mem:432.33M (Peak 1080.36M) | Time:00:00.69 | Mem:0.00M, Peak:0.00M | Scene, View Layer | Synchronizing object | Icosphere\n",
            "Fra:2 Mem:432.33M (Peak 1080.36M) | Time:00:00.69 | Mem:0.00M, Peak:0.00M | Scene, View Layer | Synchronizing object | Cube.003\n",
            "Fra:2 Mem:432.33M (Peak 1080.36M) | Time:00:00.69 | Mem:0.00M, Peak:0.00M | Scene, View Layer | Synchronizing object | Cube.004\n",
            "Fra:2 Mem:432.34M (Peak 1080.36M) | Time:00:00.69 | Mem:0.00M, Peak:0.00M | Scene, View Layer | Synchronizing object | TexturesCom_Skies0372_3_masked_S\n",
            "Fra:2 Mem:432.34M (Peak 1080.36M) | Time:00:00.69 | Mem:0.00M, Peak:0.00M | Scene, View Layer | Synchronizing object | TexturesCom_Skies0376_3_masked_S\n",
            "Fra:2 Mem:432.35M (Peak 1080.36M) | Time:00:00.69 | Mem:0.00M, Peak:0.00M | Scene, View Layer | Synchronizing object | TexturesCom_Skies0380_3_masked_S\n",
            "Fra:2 Mem:432.35M (Peak 1080.36M) | Time:00:00.69 | Mem:0.00M, Peak:0.00M | Scene, View Layer | Synchronizing object | TexturesCom_Skies0372_3_masked_S.001\n",
            "Fra:2 Mem:432.35M (Peak 1080.36M) | Time:00:00.69 | Mem:0.00M, Peak:0.00M | Scene, View Layer | Synchronizing object | Plane\n",
            "Fra:2 Mem:432.39M (Peak 1080.36M) | Time:00:00.70 | Mem:0.00M, Peak:0.00M | Scene, View Layer | Initializing\n",
            "Fra:2 Mem:388.74M (Peak 1080.36M) | Time:00:00.89 | Mem:0.00M, Peak:0.00M | Scene, View Layer | Updating Images | Loading TexturesCom_Skies0380_3_masked_S.png\n",
            "Fra:2 Mem:388.74M (Peak 1080.36M) | Time:00:00.89 | Mem:0.00M, Peak:0.00M | Scene, View Layer | Updating Images | Loading quarry_01_4k.hdr\n",
            "Fra:2 Mem:552.13M (Peak 1080.36M) | Time:00:00.93 | Mem:3.34M, Peak:3.34M | Scene, View Layer | Updating Images | Loading TexturesCom_Skies0376_3_masked_S.png\n",
            "Fra:2 Mem:556.95M (Peak 1080.36M) | Time:00:00.98 | Mem:8.16M, Peak:8.16M | Scene, View Layer | Updating Images | Loading TexturesCom_Skies0372_3_masked_S.png\n",
            "Fra:2 Mem:562.49M (Peak 1080.36M) | Time:00:01.02 | Mem:13.70M, Peak:13.70M | Scene, View Layer | Updating Images | Loading TexturesCom_Aircos0023_S.jpg\n",
            "Fra:2 Mem:566.18M (Peak 1080.36M) | Time:00:01.04 | Mem:17.39M, Peak:17.39M | Scene, View Layer | Updating Images | Loading TexturesCom_Aircos0121_1_S.jpg\n",
            "Fra:2 Mem:568.91M (Peak 1080.36M) | Time:00:01.06 | Mem:20.12M, Peak:20.12M | Scene, View Layer | Updating Images | Loading TexturesCom_Aircos0086_S.jpg\n",
            "Fra:2 Mem:571.44M (Peak 1080.36M) | Time:00:01.08 | Mem:22.65M, Peak:22.65M | Scene, View Layer | Updating Images | Loading overlay.png.002\n",
            "Fra:2 Mem:610.69M (Peak 1080.36M) | Time:00:02.14 | Mem:93.90M, Peak:93.90M | Scene, View Layer | Updating Images | Loading TexturesCom_HighRiseNight0083_1_M.jpg\n",
            "Fra:2 Mem:617.80M (Peak 1080.36M) | Time:00:02.19 | Mem:221.90M, Peak:221.90M | Scene, View Layer | Updating Images | Loading syferfontein_1d_clear_4k.hdr\n",
            "Fra:2 Mem:777.80M (Peak 1080.36M) | Time:00:02.21 | Mem:229.01M, Peak:229.01M | Scene, View Layer | Updating Images | Loading TexturesCom_HighRiseNight0038_1_M.jpg\n",
            "Fra:2 Mem:784.64M (Peak 1080.36M) | Time:00:02.27 | Mem:235.85M, Peak:235.85M | Scene, View Layer | Updating Images | Loading TexturesCom_HighRiseTowerblocks0023_1_M.jpg\n",
            "Fra:2 Mem:791.97M (Peak 1080.36M) | Time:00:02.32 | Mem:243.18M, Peak:243.18M | Scene, View Layer | Updating Images | Loading TexturesCom_HighRiseTowerblocks0043_1_S.jpg\n",
            "Fra:2 Mem:795.14M (Peak 1080.36M) | Time:00:02.34 | Mem:246.35M, Peak:246.35M | Scene, View Layer | Updating Images | Loading TexturesCom_BuildingsIndustrial0006_2_M.jpg\n",
            "Fra:2 Mem:801.44M (Peak 1080.36M) | Time:00:02.38 | Mem:252.65M, Peak:252.65M | Scene, View Layer | Updating Images | Loading TexturesCom_HighRiseResidential0160_1_seamless_S.jpg\n",
            "Fra:2 Mem:805.11M (Peak 1080.36M) | Time:00:02.41 | Mem:256.32M, Peak:256.32M | Scene, View Layer | Updating Images | Loading TexturesCom_BuildingsHouseOld0262_1_M.jpg\n",
            "Fra:2 Mem:812.11M (Peak 1080.36M) | Time:00:02.47 | Mem:263.32M, Peak:263.32M | Scene, View Layer | Updating Images | Loading TexturesCom_BuildingsHighRise0546_2_M.jpg\n",
            "Fra:2 Mem:946.81M (Peak 1080.36M) | Time:00:02.53 | Mem:270.04M, Peak:270.04M | Scene, View Layer | Updating Images | Loading TexturesCom_BuildingsIndustrial0097_1_M.jpg\n",
            "Fra:2 Mem:954.87M (Peak 1080.36M) | Time:00:02.61 | Mem:278.10M, Peak:278.10M | Scene, View Layer | Updating Images | Loading TexturesCom_BuildingsHighRise0294_1_seamless_S.jpg\n",
            "Fra:2 Mem:958.81M (Peak 1080.36M) | Time:00:02.63 | Mem:282.03M, Peak:282.03M | Scene, View Layer | Updating Images | Loading TexturesCom_BuildingsTallHouse0117_M.jpg\n",
            "Fra:2 Mem:964.91M (Peak 1080.36M) | Time:00:02.68 | Mem:288.14M, Peak:288.14M | Scene, View Layer | Updating Images | Loading TexturesCom_BuildingsIndustrial0114_M.jpg\n",
            "Fra:2 Mem:753.13M (Peak 1080.36M) | Time:00:03.40 | Mem:422.70M, Peak:422.70M | Scene, View Layer | Waiting for render to start\n",
            "Fra:2 Mem:753.14M (Peak 1080.36M) | Time:00:03.40 | Mem:422.70M, Peak:422.70M | Scene, View Layer | Loading render kernels (may take a few minutes the first time)\n",
            "Fra:2 Mem:753.14M (Peak 1080.36M) | Time:00:03.45 | Mem:422.70M, Peak:422.70M | Scene, View Layer | Updating Scene\n",
            "Fra:2 Mem:753.14M (Peak 1080.36M) | Time:00:03.45 | Mem:422.70M, Peak:422.70M | Scene, View Layer | Updating Shaders\n",
            "Fra:2 Mem:753.62M (Peak 1080.36M) | Time:00:03.45 | Mem:422.93M, Peak:422.93M | Scene, View Layer | Updating Procedurals\n",
            "Fra:2 Mem:753.62M (Peak 1080.36M) | Time:00:03.45 | Mem:422.93M, Peak:422.93M | Scene, View Layer | Updating Background\n",
            "Fra:2 Mem:753.62M (Peak 1080.36M) | Time:00:03.45 | Mem:422.93M, Peak:422.93M | Scene, View Layer | Updating Camera\n",
            "Fra:2 Mem:753.62M (Peak 1080.36M) | Time:00:03.45 | Mem:422.93M, Peak:422.93M | Scene, View Layer | Updating Meshes Flags\n",
            "Fra:2 Mem:753.62M (Peak 1080.36M) | Time:00:03.45 | Mem:422.93M, Peak:422.93M | Scene, View Layer | Updating Objects\n",
            "Fra:2 Mem:753.62M (Peak 1080.36M) | Time:00:03.45 | Mem:422.93M, Peak:422.93M | Scene, View Layer | Updating Objects | Copying Transformations to device\n",
            "Fra:2 Mem:757.43M (Peak 1080.36M) | Time:00:03.47 | Mem:430.60M, Peak:430.60M | Scene, View Layer | Updating Objects | Applying Static Transformations\n",
            "Fra:2 Mem:757.43M (Peak 1080.36M) | Time:00:03.47 | Mem:430.60M, Peak:430.60M | Scene, View Layer | Updating Particle Systems\n",
            "Fra:2 Mem:757.43M (Peak 1080.36M) | Time:00:03.47 | Mem:430.60M, Peak:430.60M | Scene, View Layer | Updating Particle Systems | Copying Particles to device\n",
            "Fra:2 Mem:757.43M (Peak 1080.36M) | Time:00:03.47 | Mem:430.60M, Peak:430.60M | Scene, View Layer | Updating Meshes\n",
            "Fra:2 Mem:763.55M (Peak 1080.36M) | Time:00:03.48 | Mem:430.60M, Peak:430.60M | Scene, View Layer | Updating Mesh | Computing attributes\n",
            "Fra:2 Mem:779.22M (Peak 1080.36M) | Time:00:03.49 | Mem:430.61M, Peak:430.61M | Scene, View Layer | Updating Mesh | Copying Attributes to device\n",
            "Fra:2 Mem:777.11M (Peak 1080.36M) | Time:00:03.50 | Mem:444.16M, Peak:444.16M | Scene, View Layer | Updating Geometry BVH Plane 12/12 | Building BVH\n",
            "Fra:2 Mem:777.33M (Peak 1080.36M) | Time:00:03.50 | Mem:444.16M, Peak:444.16M | Scene, View Layer | Updating Geometry BVH Cube 1/12 | Building BVH\n",
            "Fra:2 Mem:777.33M (Peak 1080.36M) | Time:00:03.50 | Mem:444.16M, Peak:444.16M | Scene, View Layer | Updating Geometry BVH Cube 1/12 | Packing BVH triangles and strands\n",
            "Fra:2 Mem:777.33M (Peak 1080.36M) | Time:00:03.50 | Mem:444.16M, Peak:444.16M | Scene, View Layer | Updating Geometry BVH Cube 1/12 | Packing BVH nodes\n",
            "Fra:2 Mem:777.33M (Peak 1080.36M) | Time:00:03.50 | Mem:444.16M, Peak:444.16M | Scene, View Layer | Updating Geometry BVH Cube.001 2/12 | Building BVH\n",
            "Fra:2 Mem:777.33M (Peak 1080.36M) | Time:00:03.50 | Mem:444.16M, Peak:444.16M | Scene, View Layer | Updating Geometry BVH Cube.001 2/12 | Packing BVH triangles and strands\n",
            "Fra:2 Mem:777.33M (Peak 1080.36M) | Time:00:03.50 | Mem:444.16M, Peak:444.16M | Scene, View Layer | Updating Geometry BVH Cube.001 2/12 | Packing BVH nodes\n",
            "Fra:2 Mem:777.33M (Peak 1080.36M) | Time:00:03.50 | Mem:444.16M, Peak:444.16M | Scene, View Layer | Updating Geometry BVH Cube.002 3/12 | Building BVH\n",
            "Fra:2 Mem:777.33M (Peak 1080.36M) | Time:00:03.50 | Mem:444.16M, Peak:444.16M | Scene, View Layer | Updating Geometry BVH Cube.002 3/12 | Packing BVH triangles and strands\n",
            "Fra:2 Mem:777.33M (Peak 1080.36M) | Time:00:03.50 | Mem:444.16M, Peak:444.16M | Scene, View Layer | Updating Geometry BVH Cube.002 3/12 | Packing BVH nodes\n",
            "Fra:2 Mem:777.33M (Peak 1080.36M) | Time:00:03.50 | Mem:444.16M, Peak:444.16M | Scene, View Layer | Updating Geometry BVH Cube.005 4/12 | Building BVH\n",
            "Fra:2 Mem:777.33M (Peak 1080.36M) | Time:00:03.50 | Mem:444.16M, Peak:444.16M | Scene, View Layer | Updating Geometry BVH Cube.005 4/12 | Packing BVH triangles and strands\n",
            "Fra:2 Mem:777.33M (Peak 1080.36M) | Time:00:03.50 | Mem:444.16M, Peak:444.16M | Scene, View Layer | Updating Geometry BVH Cube.005 4/12 | Packing BVH nodes\n",
            "Fra:2 Mem:777.33M (Peak 1080.36M) | Time:00:03.50 | Mem:444.16M, Peak:444.16M | Scene, View Layer | Updating Geometry BVH Cylinder.001 5/12 | Building BVH\n",
            "Fra:2 Mem:777.34M (Peak 1080.36M) | Time:00:03.50 | Mem:444.16M, Peak:444.16M | Scene, View Layer | Updating Geometry BVH Cylinder.001 5/12 | Packing BVH triangles and strands\n",
            "Fra:2 Mem:777.34M (Peak 1080.36M) | Time:00:03.50 | Mem:444.16M, Peak:444.16M | Scene, View Layer | Updating Geometry BVH Cylinder.001 5/12 | Packing BVH nodes\n",
            "Fra:2 Mem:777.34M (Peak 1080.36M) | Time:00:03.50 | Mem:444.16M, Peak:444.16M | Scene, View Layer | Updating Geometry BVH Cylinder 6/12 | Building BVH\n",
            "Fra:2 Mem:777.37M (Peak 1080.36M) | Time:00:03.50 | Mem:444.16M, Peak:444.16M | Scene, View Layer | Updating Geometry BVH Cylinder 6/12 | Packing BVH triangles and strands\n",
            "Fra:2 Mem:777.37M (Peak 1080.36M) | Time:00:03.50 | Mem:444.16M, Peak:444.16M | Scene, View Layer | Updating Geometry BVH Cylinder 6/12 | Packing BVH nodes\n",
            "Fra:2 Mem:777.35M (Peak 1080.36M) | Time:00:03.50 | Mem:444.16M, Peak:444.16M | Scene, View Layer | Updating Geometry BVH map_9.osm_buildings.002 7/12 | Building BVH\n",
            "Fra:2 Mem:777.36M (Peak 1080.36M) | Time:00:03.50 | Mem:444.16M, Peak:444.16M | Scene, View Layer | Updating Geometry BVH map_9.osm_buildings.002 7/12 | Packing BVH triangles and strands\n",
            "Fra:2 Mem:777.36M (Peak 1080.36M) | Time:00:03.50 | Mem:444.16M, Peak:444.16M | Scene, View Layer | Updating Geometry BVH map_9.osm_buildings.002 7/12 | Packing BVH nodes\n",
            "Fra:2 Mem:777.35M (Peak 1080.36M) | Time:00:03.50 | Mem:444.16M, Peak:444.16M | Scene, View Layer | Updating Geometry BVH TexturesCom_Skies0372_3_masked_S 8/12 | Building BVH\n",
            "Fra:2 Mem:777.36M (Peak 1080.36M) | Time:00:03.50 | Mem:444.16M, Peak:444.16M | Scene, View Layer | Updating Geometry BVH TexturesCom_Skies0372_3_masked_S 8/12 | Packing BVH triangles and strands\n",
            "Fra:2 Mem:777.36M (Peak 1080.36M) | Time:00:03.50 | Mem:444.16M, Peak:444.16M | Scene, View Layer | Updating Geometry BVH TexturesCom_Skies0372_3_masked_S 8/12 | Packing BVH nodes\n",
            "Fra:2 Mem:777.36M (Peak 1080.36M) | Time:00:03.50 | Mem:444.16M, Peak:444.16M | Scene, View Layer | Updating Geometry BVH TexturesCom_Skies0376_3_masked_S 9/12 | Building BVH\n",
            "Fra:2 Mem:777.36M (Peak 1080.36M) | Time:00:03.50 | Mem:444.16M, Peak:444.16M | Scene, View Layer | Updating Geometry BVH TexturesCom_Skies0376_3_masked_S 9/12 | Packing BVH triangles and strands\n",
            "Fra:2 Mem:777.36M (Peak 1080.36M) | Time:00:03.50 | Mem:444.16M, Peak:444.16M | Scene, View Layer | Updating Geometry BVH TexturesCom_Skies0376_3_masked_S 9/12 | Packing BVH nodes\n",
            "Fra:2 Mem:777.36M (Peak 1080.36M) | Time:00:03.50 | Mem:444.16M, Peak:444.16M | Scene, View Layer | Updating Geometry BVH TexturesCom_Skies0380_3_masked_S 10/12 | Building BVH\n",
            "Fra:2 Mem:777.36M (Peak 1080.36M) | Time:00:03.50 | Mem:444.16M, Peak:444.16M | Scene, View Layer | Updating Geometry BVH TexturesCom_Skies0380_3_masked_S 10/12 | Packing BVH triangles and strands\n",
            "Fra:2 Mem:777.36M (Peak 1080.36M) | Time:00:03.50 | Mem:444.16M, Peak:444.16M | Scene, View Layer | Updating Geometry BVH TexturesCom_Skies0380_3_masked_S 10/12 | Packing BVH nodes\n",
            "Fra:2 Mem:777.36M (Peak 1080.36M) | Time:00:03.50 | Mem:444.16M, Peak:444.16M | Scene, View Layer | Updating Geometry BVH TexturesCom_Skies0372_3_masked_S.001 11/12 | Building BVH\n",
            "Fra:2 Mem:777.36M (Peak 1080.36M) | Time:00:03.50 | Mem:444.16M, Peak:444.16M | Scene, View Layer | Updating Geometry BVH TexturesCom_Skies0372_3_masked_S.001 11/12 | Packing BVH triangles and strands\n",
            "Fra:2 Mem:777.36M (Peak 1080.36M) | Time:00:03.50 | Mem:444.16M, Peak:444.16M | Scene, View Layer | Updating Geometry BVH TexturesCom_Skies0372_3_masked_S.001 11/12 | Packing BVH nodes\n",
            "Fra:2 Mem:777.36M (Peak 1080.36M) | Time:00:03.50 | Mem:444.16M, Peak:444.16M | Scene, View Layer | Updating Geometry BVH TexturesCom_Skies0372_3_masked_S.001 11/12 | Packing BVH triangles and strands\n",
            "Fra:2 Mem:777.37M (Peak 1080.36M) | Time:00:03.50 | Mem:444.16M, Peak:444.16M | Scene, View Layer | Updating Geometry BVH TexturesCom_Skies0372_3_masked_S.001 11/12 | Packing BVH nodes\n",
            "Fra:2 Mem:777.25M (Peak 1080.36M) | Time:00:03.56 | Mem:444.16M, Peak:444.16M | Scene, View Layer | Updating Scene BVH | Building\n",
            "Fra:2 Mem:777.52M (Peak 1080.36M) | Time:00:03.56 | Mem:444.16M, Peak:444.16M | Scene, View Layer | Updating Scene BVH | Building BVH\n",
            "Fra:2 Mem:802.42M (Peak 1080.36M) | Time:00:03.84 | Mem:444.16M, Peak:444.16M | Scene, View Layer | Updating Scene BVH | Building BVH 51%, duplicates 0%\n",
            "Fra:2 Mem:802.42M (Peak 1080.36M) | Time:00:03.98 | Mem:444.16M, Peak:444.16M | Scene, View Layer | Updating Scene BVH | Packing BVH triangles and strands\n",
            "Fra:2 Mem:804.06M (Peak 1080.36M) | Time:00:03.99 | Mem:444.16M, Peak:444.16M | Scene, View Layer | Updating Scene BVH | Packing BVH nodes\n",
            "Fra:2 Mem:809.14M (Peak 1080.36M) | Time:00:04.05 | Mem:444.16M, Peak:444.16M | Scene, View Layer | Updating Scene BVH | Copying BVH to device\n",
            "Fra:2 Mem:809.14M (Peak 1080.36M) | Time:00:04.05 | Mem:459.97M, Peak:459.97M | Scene, View Layer | Updating Mesh | Computing normals\n",
            "Fra:2 Mem:839.69M (Peak 1080.36M) | Time:00:04.07 | Mem:459.97M, Peak:459.97M | Scene, View Layer | Updating Mesh | Copying Mesh to device\n",
            "Fra:2 Mem:839.69M (Peak 1080.36M) | Time:00:04.08 | Mem:490.51M, Peak:490.51M | Scene, View Layer | Updating Objects Flags\n",
            "Fra:2 Mem:839.69M (Peak 1080.36M) | Time:00:04.08 | Mem:490.78M, Peak:490.78M | Scene, View Layer | Updating Primitive Offsets\n",
            "Fra:2 Mem:839.69M (Peak 1080.36M) | Time:00:04.08 | Mem:490.78M, Peak:490.78M | Scene, View Layer | Updating Images\n",
            "Fra:2 Mem:711.69M (Peak 1080.36M) | Time:00:04.09 | Mem:362.78M, Peak:490.78M | Scene, View Layer | Updating Camera Volume\n",
            "Fra:2 Mem:711.69M (Peak 1080.36M) | Time:00:04.09 | Mem:362.78M, Peak:490.78M | Scene, View Layer | Updating Lookup Tables\n",
            "Fra:2 Mem:711.69M (Peak 1080.36M) | Time:00:04.09 | Mem:363.03M, Peak:490.78M | Scene, View Layer | Updating Lights\n",
            "Fra:2 Mem:711.69M (Peak 1080.36M) | Time:00:04.09 | Mem:363.03M, Peak:490.78M | Scene, View Layer | Updating Lights | Computing distribution\n",
            "Fra:2 Mem:711.88M (Peak 1080.36M) | Time:00:04.10 | Mem:363.22M, Peak:490.78M | Scene, View Layer | Updating Lights | Importance map\n",
            "E1219 16:39:59.422966  4739 shader_eval.cpp:47] Multi-devices are not yet fully implemented, will evaluate shader on a single device.\n",
            "Fra:2 Mem:775.91M (Peak 1080.36M) | Time:00:04.44 | Mem:427.25M, Peak:490.78M | Scene, View Layer | Updating Integrator\n",
            "Fra:2 Mem:775.92M (Peak 1080.36M) | Time:00:04.44 | Mem:427.26M, Peak:490.78M | Scene, View Layer | Updating Film\n",
            "Fra:2 Mem:775.92M (Peak 1080.36M) | Time:00:04.44 | Mem:427.01M, Peak:490.78M | Scene, View Layer | Updating Lookup Tables\n",
            "Fra:2 Mem:775.92M (Peak 1080.36M) | Time:00:04.44 | Mem:427.26M, Peak:490.78M | Scene, View Layer | Updating Baking\n",
            "Fra:2 Mem:775.92M (Peak 1080.36M) | Time:00:04.44 | Mem:427.26M, Peak:490.78M | Scene, View Layer | Updating Device | Writing constant memory\n",
            "Fra:2 Mem:783.45M (Peak 1080.36M) | Time:00:04.45 | Mem:427.26M, Peak:490.78M | Scene, View Layer | Sample 0/300\n",
            "Fra:2 Mem:830.91M (Peak 1080.36M) | Time:00:31.02 | Remaining:02:12:23.93 | Mem:427.26M, Peak:490.78M | Scene, View Layer | Sample 1/300\n",
            "Fra:2 Mem:830.92M (Peak 1080.36M) | Time:00:36.52 | Remaining:01:19:37.90 | Mem:427.26M, Peak:490.78M | Scene, View Layer | Sample 2/300\n",
            "Fra:2 Mem:830.92M (Peak 1080.36M) | Time:00:40.46 | Remaining:59:25.35 | Mem:427.26M, Peak:490.78M | Scene, View Layer | Sample 3/300\n",
            "Fra:2 Mem:830.92M (Peak 1080.36M) | Time:00:43.84 | Remaining:48:34.76 | Mem:427.26M, Peak:490.78M | Scene, View Layer | Sample 4/300\n",
            "Fra:2 Mem:830.92M (Peak 1080.36M) | Time:00:46.91 | Remaining:41:45.14 | Mem:427.26M, Peak:490.78M | Scene, View Layer | Sample 5/300\n",
            "Fra:2 Mem:830.92M (Peak 1080.36M) | Time:00:49.86 | Remaining:37:05.16 | Mem:427.26M, Peak:490.78M | Scene, View Layer | Sample 6/300\n",
            "Fra:2 Mem:830.92M (Peak 1080.36M) | Time:00:52.75 | Remaining:33:41.81 | Mem:427.26M, Peak:490.78M | Scene, View Layer | Sample 7/300\n",
            "Fra:2 Mem:830.92M (Peak 1080.36M) | Time:01:04.14 | Remaining:26:08.36 | Mem:427.26M, Peak:490.78M | Scene, View Layer | Sample 11/300\n",
            "Fra:2 Mem:830.92M (Peak 1080.36M) | Time:01:15.21 | Remaining:22:24.48 | Mem:427.26M, Peak:490.78M | Scene, View Layer | Sample 15/300\n",
            "Fra:2 Mem:830.92M (Peak 1080.36M) | Time:01:26.23 | Remaining:20:09.54 | Mem:427.26M, Peak:490.78M | Scene, View Layer | Sample 19/300\n",
            "Fra:2 Mem:830.92M (Peak 1080.36M) | Time:01:47.96 | Remaining:17:26.58 | Mem:427.26M, Peak:490.78M | Scene, View Layer | Sample 27/300\n",
            "Fra:2 Mem:830.92M (Peak 1080.36M) | Time:02:08.82 | Remaining:15:41.68 | Mem:427.26M, Peak:490.78M | Scene, View Layer | Sample 35/300\n",
            "Fra:2 Mem:830.92M (Peak 1080.36M) | Time:02:28.95 | Remaining:14:23.61 | Mem:427.26M, Peak:490.78M | Scene, View Layer | Sample 43/300\n",
            "Fra:2 Mem:830.92M (Peak 1080.36M) | Time:02:49.04 | Remaining:13:23.58 | Mem:427.26M, Peak:490.78M | Scene, View Layer | Sample 51/300\n",
            "Fra:2 Mem:830.92M (Peak 1080.36M) | Time:03:09.04 | Remaining:12:33.99 | Mem:427.26M, Peak:490.78M | Scene, View Layer | Sample 59/300\n",
            "Fra:2 Mem:830.92M (Peak 1080.36M) | Time:03:28.95 | Remaining:11:51.16 | Mem:427.26M, Peak:490.78M | Scene, View Layer | Sample 67/300\n",
            "Fra:2 Mem:830.92M (Peak 1080.36M) | Time:03:48.89 | Remaining:11:13.33 | Mem:427.26M, Peak:490.78M | Scene, View Layer | Sample 75/300\n",
            "Fra:2 Mem:830.92M (Peak 1080.36M) | Time:04:08.91 | Remaining:10:39.14 | Mem:427.26M, Peak:490.78M | Scene, View Layer | Sample 83/300\n",
            "Fra:2 Mem:830.92M (Peak 1080.36M) | Time:04:28.82 | Remaining:10:07.18 | Mem:427.26M, Peak:490.78M | Scene, View Layer | Sample 91/300\n",
            "Fra:2 Mem:830.92M (Peak 1080.36M) | Time:04:48.69 | Remaining:09:37.09 | Mem:427.26M, Peak:490.78M | Scene, View Layer | Sample 99/300\n",
            "Fra:2 Mem:830.92M (Peak 1080.36M) | Time:05:08.56 | Remaining:09:08.54 | Mem:427.26M, Peak:490.78M | Scene, View Layer | Sample 107/300\n",
            "Fra:2 Mem:830.92M (Peak 1080.36M) | Time:05:28.62 | Remaining:08:41.48 | Mem:427.26M, Peak:490.78M | Scene, View Layer | Sample 115/300\n",
            "Fra:2 Mem:830.92M (Peak 1080.36M) | Time:05:48.49 | Remaining:08:15.08 | Mem:427.26M, Peak:490.78M | Scene, View Layer | Sample 123/300\n",
            "Fra:2 Mem:830.92M (Peak 1080.36M) | Time:06:08.35 | Remaining:07:49.45 | Mem:427.26M, Peak:490.78M | Scene, View Layer | Sample 131/300\n",
            "Fra:2 Mem:830.92M (Peak 1080.36M) | Time:06:28.32 | Remaining:07:24.63 | Mem:427.26M, Peak:490.78M | Scene, View Layer | Sample 139/300\n",
            "Fra:2 Mem:830.92M (Peak 1080.36M) | Time:06:48.28 | Remaining:07:00.31 | Mem:427.26M, Peak:490.78M | Scene, View Layer | Sample 147/300\n",
            "Fra:2 Mem:830.92M (Peak 1080.36M) | Time:07:08.23 | Remaining:06:36.44 | Mem:427.26M, Peak:490.78M | Scene, View Layer | Sample 155/300\n",
            "Fra:2 Mem:830.92M (Peak 1080.36M) | Time:07:28.10 | Remaining:06:12.88 | Mem:427.26M, Peak:490.78M | Scene, View Layer | Sample 163/300\n",
            "Fra:2 Mem:830.92M (Peak 1080.36M) | Time:07:48.09 | Remaining:05:49.76 | Mem:427.26M, Peak:490.78M | Scene, View Layer | Sample 171/300\n",
            "Fra:2 Mem:830.92M (Peak 1080.36M) | Time:08:08.12 | Remaining:05:26.95 | Mem:427.26M, Peak:490.78M | Scene, View Layer | Sample 179/300\n",
            "Fra:2 Mem:830.92M (Peak 1080.36M) | Time:08:28.02 | Remaining:05:04.29 | Mem:427.26M, Peak:490.78M | Scene, View Layer | Sample 187/300\n",
            "Fra:2 Mem:830.92M (Peak 1080.36M) | Time:08:47.94 | Remaining:04:41.88 | Mem:427.26M, Peak:490.78M | Scene, View Layer | Sample 195/300\n",
            "Fra:2 Mem:830.92M (Peak 1080.36M) | Time:09:07.85 | Remaining:04:19.65 | Mem:427.26M, Peak:490.78M | Scene, View Layer | Sample 203/300\n",
            "Fra:2 Mem:830.92M (Peak 1080.36M) | Time:09:27.93 | Remaining:03:57.67 | Mem:427.26M, Peak:490.78M | Scene, View Layer | Sample 211/300\n",
            "Fra:2 Mem:830.92M (Peak 1080.36M) | Time:09:47.90 | Remaining:03:35.79 | Mem:427.26M, Peak:490.78M | Scene, View Layer | Sample 219/300\n",
            "Fra:2 Mem:830.92M (Peak 1080.36M) | Time:10:08.18 | Remaining:03:14.15 | Mem:427.26M, Peak:490.78M | Scene, View Layer | Sample 227/300\n",
            "Fra:2 Mem:830.92M (Peak 1080.36M) | Time:10:28.20 | Remaining:02:52.52 | Mem:427.26M, Peak:490.78M | Scene, View Layer | Sample 235/300\n",
            "Fra:2 Mem:830.92M (Peak 1080.36M) | Time:10:48.19 | Remaining:02:31.00 | Mem:427.26M, Peak:490.78M | Scene, View Layer | Sample 243/300\n",
            "Fra:2 Mem:830.92M (Peak 1080.36M) | Time:11:08.14 | Remaining:02:09.56 | Mem:427.26M, Peak:490.78M | Scene, View Layer | Sample 251/300\n",
            "Fra:2 Mem:830.92M (Peak 1080.36M) | Time:11:28.06 | Remaining:01:48.21 | Mem:427.26M, Peak:490.78M | Scene, View Layer | Sample 259/300\n"
          ]
        }
      ]
    },
    {
      "cell_type": "code",
      "metadata": {
        "id": "IjN_CFwEIB6f",
        "colab": {
          "base_uri": "https://localhost:8080/",
          "height": 244
        },
        "outputId": "6d1a4649-f1be-4de8-e61d-37812f5e98f7"
      },
      "source": [
        "\"\"\"\n",
        "path, dirs, files_folder = next(os.walk(\"output\"))\n",
        "output_folder_name = output_name.replace('#', '') + 'render'\n",
        "\n",
        "if download_type == 'gdrive_direct':\n",
        "    pass\n",
        "elif len(files_folder) == 1:\n",
        "    render_img = 'output/' + files_folder[0]\n",
        "    if download_type == 'direct':\n",
        "        files.download('output/' + files_folder[0])\n",
        "    else:\n",
        "        shutil.copy('/content/' + render_img, '/drive/My Drive/' + drive_output_path)\n",
        "elif len(files_folder) > 1:\n",
        "    if zip_files:\n",
        "        shutil.make_archive(output_folder_name, 'zip', 'output')\n",
        "    if download_type == 'direct':\n",
        "        files.download(output_folder_name + '.zip')\n",
        "    else:\n",
        "        shutil.copy('/content/' + output_folder_name + \".zip\", '/drive/My Drive/' + drive_output_path)\n",
        "elif download_type == 'direct':\n",
        "    for f in files_folder:\n",
        "        files.download('output/{}'.format(f))\n",
        "    # Drive, no zip\n",
        "    else:\n",
        "        for f in files_folder:\n",
        "          shutil.copy(\"/content/output/\" + f, '/drive/My Drive/' + drive_output_path + f)\n",
        "else:\n",
        "    raise SystemExit(\"No frames are rendered.\")\n",
        "\"\"\""
      ],
      "execution_count": null,
      "outputs": [
        {
          "output_type": "execute_result",
          "data": {
            "application/vnd.google.colaboratory.intrinsic+json": {
              "type": "string"
            },
            "text/plain": [
              "'\\npath, dirs, files_folder = next(os.walk(\"output\"))\\noutput_folder_name = output_name.replace(\\'#\\', \\'\\') + \\'render\\'\\n\\nif download_type == \\'gdrive_direct\\':\\n    pass\\nelif len(files_folder) == 1:\\n    render_img = \\'output/\\' + files_folder[0]\\n    if download_type == \\'direct\\':\\n        files.download(\\'output/\\' + files_folder[0])\\n    else:\\n        shutil.copy(\\'/content/\\' + render_img, \\'/drive/My Drive/\\' + drive_output_path)\\nelif len(files_folder) > 1:\\n    if zip_files:\\n        shutil.make_archive(output_folder_name, \\'zip\\', \\'output\\')\\n    if download_type == \\'direct\\':\\n        files.download(output_folder_name + \\'.zip\\')\\n    else:\\n        shutil.copy(\\'/content/\\' + output_folder_name + \".zip\", \\'/drive/My Drive/\\' + drive_output_path)\\nelif download_type == \\'direct\\':\\n    for f in files_folder:\\n        files.download(\\'output/{}\\'.format(f))\\n    # Drive, no zip\\n    else:\\n        for f in files_folder:\\n          shutil.copy(\"/content/output/\" + f, \\'/drive/My Drive/\\' + drive_output_path + f)\\nelse:\\n    raise SystemExit(\"No frames are rendered.\")\\n'"
            ]
          },
          "metadata": {},
          "execution_count": 11
        }
      ]
    },
    {
      "cell_type": "code",
      "metadata": {
        "id": "p-ZAGhIss0kv",
        "colab": {
          "base_uri": "https://localhost:8080/",
          "height": 140
        },
        "outputId": "e191eb4e-6c5e-4a3c-c33f-cd2e90976a56"
      },
      "source": [
        "\"\"\"\n",
        "!ffmpeg -start_number '{start_frame}' -i '/content/output/blender-%02d.tif' -crf 18 '/content/drive/MyDrive/out/test_loss_less_W_{start_frame}_{end_frame}.mp4'\n",
        "#!ffmpeg -start_number '{start_frame}' -i '/content/output/blender-%02d_L.tif' -crf 18 '/content/drive/MyDrive/out/test_loss_less_L_{start_frame}_{end_frame}.mp4'\n",
        "#!ffmpeg -start_number '{start_frame}' -i '/content/output/blender-%02d_R.tif' -crf 18 '/content/drive/MyDrive/out/test_loss_less_R_{start_frame}_{end_frame}.mp4'\n",
        "\"\"\""
      ],
      "execution_count": null,
      "outputs": [
        {
          "output_type": "execute_result",
          "data": {
            "application/vnd.google.colaboratory.intrinsic+json": {
              "type": "string"
            },
            "text/plain": [
              "\"\\n!ffmpeg -start_number '{start_frame}' -i '/content/output/blender-%02d.tif' -crf 18 '/content/drive/MyDrive/out/test_loss_less_W_{start_frame}_{end_frame}.mp4'\\n#!ffmpeg -start_number '{start_frame}' -i '/content/output/blender-%02d_L.tif' -crf 18 '/content/drive/MyDrive/out/test_loss_less_L_{start_frame}_{end_frame}.mp4'\\n#!ffmpeg -start_number '{start_frame}' -i '/content/output/blender-%02d_R.tif' -crf 18 '/content/drive/MyDrive/out/test_loss_less_R_{start_frame}_{end_frame}.mp4'\\n\""
            ]
          },
          "metadata": {},
          "execution_count": 12
        }
      ]
    },
    {
      "cell_type": "markdown",
      "metadata": {
        "id": "IeNhVz4Uds_7"
      },
      "source": [
        "## Disclaimer\n",
        "The GPU used in Google Colab is specialized for data centres, neural network etc, not rendering 3D scenes. Because the computing power provided are free, the usage limits, idle timeouts and speed of the rendering may varies. [ColabPro](https://colab.research.google.com/signup) is available for those who wanted to have more powerful GPU and longer session for rendering. See the [FAQ](https://research.google.com/colaboratory/faq.html) for more info about this platform. In some cases, it might be faster to use an online Blender renderfarm.\n",
        "\n",
        "## License\n",
        "```\n",
        "MIT License\n",
        "\n",
        "Copyright (c) 2020 syn73\n",
        "\n",
        "Permission is hereby granted, free of charge, to any person obtaining a copy\n",
        "of this software and associated documentation files (the \"Software\"), to deal\n",
        "in the Software without restriction, including without limitation the rights\n",
        "to use, copy, modify, merge, publish, distribute, sublicense, and/or sell\n",
        "copies of the Software, and to permit persons to whom the Software is\n",
        "furnished to do so, subject to the following conditions:\n",
        "\n",
        "The above copyright notice and this permission notice shall be included in all\n",
        "copies or substantial portions of the Software.\n",
        "\n",
        "THE SOFTWARE IS PROVIDED \"AS IS\", WITHOUT WARRANTY OF ANY KIND, EXPRESS OR\n",
        "IMPLIED, INCLUDING BUT NOT LIMITED TO THE WARRANTIES OF MERCHANTABILITY,\n",
        "FITNESS FOR A PARTICULAR PURPOSE AND NONINFRINGEMENT. IN NO EVENT SHALL THE\n",
        "AUTHORS OR COPYRIGHT HOLDERS BE LIABLE FOR ANY CLAIM, DAMAGES OR OTHER\n",
        "LIABILITY, WHETHER IN AN ACTION OF CONTRACT, TORT OR OTHERWISE, ARISING FROM,\n",
        "OUT OF OR IN CONNECTION WITH THE SOFTWARE OR THE USE OR OTHER DEALINGS IN THE\n",
        "SOFTWARE.\n",
        "```"
      ]
    }
  ]
}