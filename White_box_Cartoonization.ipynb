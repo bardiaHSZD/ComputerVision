{
  "nbformat": 4,
  "nbformat_minor": 0,
  "metadata": {
    "colab": {
      "name": "White-box-Cartoonization.ipynb",
      "provenance": [],
      "collapsed_sections": [],
      "include_colab_link": true
    },
    "kernelspec": {
      "name": "python3",
      "display_name": "Python 3"
    },
    "accelerator": "GPU"
  },
  "cells": [
    {
      "cell_type": "markdown",
      "metadata": {
        "id": "view-in-github",
        "colab_type": "text"
      },
      "source": [
        "<a href=\"https://colab.research.google.com/github/bardiaHSZD/GameEngineDev/blob/main/White_box_Cartoonization.ipynb\" target=\"_parent\"><img src=\"https://colab.research.google.com/assets/colab-badge.svg\" alt=\"Open In Colab\"/></a>"
      ]
    },
    {
      "cell_type": "markdown",
      "metadata": {
        "id": "COWx_PXv6eYW"
      },
      "source": [
        "This notebook demonstrates TensorFlow.js model conversion process for the [White-box Cartoonization](https://github.com/SystemErrorWang/White-box-Cartoonization) model proposed in [Learning to Cartoonize Using White-box Cartoon Representations](https://openaccess.thecvf.com/content_CVPR_2020/papers/Wang_Learning_to_Cartoonize_Using_White-Box_Cartoon_Representations_CVPR_2020_paper.pdf) (CVPR 2020) paper by Xinrui Wang and Jinze Yu.\n",
        "\n",
        "Here's an example output from the [TensorFlow.js app](https://pratapvardhan.github.io/cartoonizer-with-tfjs/):\n",
        "\n",
        "![demo](https://raw.githubusercontent.com/pratapvardhan/cartoonizer-with-tfjs/master/assets/demo.jpg)\n",
        "\n",
        "[Try the web app](https://pratapvardhan.github.io/cartoonizer-with-tfjs/)\n",
        "\n",
        "**Author**: [Pratap Vardhan](https://twitter.com/PratapVardhan)\n",
        "\n",
        "**Acknowledgements**: \n",
        "- This notebook reproduces and borrows heavily from [Margaret Maynard-Reid](https://twitter.com/margaretmz), [Sayak Paul](https://twitter.com/RisingSayak)'s work on [TFLite model conversion](https://blog.tensorflow.org/2020/09/how-to-create-cartoonizer-with-tf-lite.html)\n",
        "- Which relies on [Stefano Morelli](https://www.kaggle.com/steubk)'s on inference [scripts](https://github.com/steubk/White-box-Cartoonization/tree/inference-tf-2.x) and kaggle [kernel](https://www.kaggle.com/steubk/the-night-fellini-met-miyazaki).\n",
        "- And, [White-box Cartoonization](https://github.com/SystemErrorWang/White-box-Cartoonization) repository from the original authors."
      ]
    },
    {
      "cell_type": "code",
      "metadata": {
        "id": "sg2coo5l6fka",
        "colab": {
          "base_uri": "https://localhost:8080/"
        },
        "outputId": "23234199-24f4-46fe-f5d2-41c1e5c9cd5b"
      },
      "source": [
        "!git clone --branch inference-tf-2.x https://github.com/steubk/White-box-Cartoonization.git\n",
        "!pip install --upgrade tf_slim"
      ],
      "execution_count": 1,
      "outputs": [
        {
          "output_type": "stream",
          "name": "stdout",
          "text": [
            "Cloning into 'White-box-Cartoonization'...\n",
            "remote: Enumerating objects: 188, done.\u001b[K\n",
            "remote: Total 188 (delta 0), reused 0 (delta 0), pack-reused 188\u001b[K\n",
            "Receiving objects: 100% (188/188), 63.41 MiB | 30.27 MiB/s, done.\n",
            "Resolving deltas: 100% (64/64), done.\n",
            "Collecting tf_slim\n",
            "  Downloading tf_slim-1.1.0-py2.py3-none-any.whl (352 kB)\n",
            "\u001b[K     |████████████████████████████████| 352 kB 5.3 MB/s \n",
            "\u001b[?25hRequirement already satisfied: absl-py>=0.2.2 in /usr/local/lib/python3.7/dist-packages (from tf_slim) (0.12.0)\n",
            "Requirement already satisfied: six in /usr/local/lib/python3.7/dist-packages (from absl-py>=0.2.2->tf_slim) (1.15.0)\n",
            "Installing collected packages: tf-slim\n",
            "Successfully installed tf-slim-1.1.0\n"
          ]
        }
      ]
    },
    {
      "cell_type": "code",
      "metadata": {
        "id": "7ezolHGJnVHB"
      },
      "source": [
        "import sys\n",
        "sys.path.append('./White-box-Cartoonization/test_code')\n",
        "\n",
        "import os\n",
        "import matplotlib.pyplot as plt\n",
        "import cartoonize\n",
        "\n",
        "from PIL import Image"
      ],
      "execution_count": 2,
      "outputs": []
    },
    {
      "cell_type": "code",
      "metadata": {
        "id": "vcCXMJXvnYnK",
        "colab": {
          "base_uri": "https://localhost:8080/"
        },
        "outputId": "7d4eedac-bbc6-4635-80ce-31155a74af6c"
      },
      "source": [
        "!mkdir -p ./source\n",
        "!wget https://raw.githubusercontent.com/pratapvardhan/cartoonizer-with-tfjs/master/assets/messi-ronaldo.jpg  -O ./source/image.jpg"
      ],
      "execution_count": 3,
      "outputs": [
        {
          "output_type": "stream",
          "name": "stdout",
          "text": [
            "--2021-09-26 01:07:38--  https://raw.githubusercontent.com/pratapvardhan/cartoonizer-with-tfjs/master/assets/messi-ronaldo.jpg\n",
            "Resolving raw.githubusercontent.com (raw.githubusercontent.com)... 185.199.108.133, 185.199.109.133, 185.199.110.133, ...\n",
            "Connecting to raw.githubusercontent.com (raw.githubusercontent.com)|185.199.108.133|:443... connected.\n",
            "HTTP request sent, awaiting response... 200 OK\n",
            "Length: 25992 (25K) [image/jpeg]\n",
            "Saving to: ‘./source/image.jpg’\n",
            "\n",
            "\r./source/image.jpg    0%[                    ]       0  --.-KB/s               \r./source/image.jpg  100%[===================>]  25.38K  --.-KB/s    in 0.002s  \n",
            "\n",
            "2021-09-26 01:07:38 (16.5 MB/s) - ‘./source/image.jpg’ saved [25992/25992]\n",
            "\n"
          ]
        }
      ]
    },
    {
      "cell_type": "code",
      "metadata": {
        "id": "1KhRXlSXnjDC",
        "colab": {
          "base_uri": "https://localhost:8080/",
          "height": 463
        },
        "outputId": "815848a3-fd7a-488c-bcc5-54347a4e3646"
      },
      "source": [
        "model_path = './White-box-Cartoonization/test_code/saved_models'\n",
        "load_folder = './source'\n",
        "save_folder = './cartoonized_images'\n",
        "if not os.path.exists(save_folder): os.mkdir(save_folder)\n",
        "\n",
        "cartoonize.cartoonize(load_folder, save_folder, model_path)\n",
        "source_image = plt.imread('./content/run_01_jpgs.#.jpg')\n",
        "cartoonized_image = plt.imread('./cartoonized_images/run_01_jpgs.#.jpg')\n",
        "\n",
        "fig, ax = plt.subplots(1, 2, figsize=(15, 5))\n",
        "ax[0].imshow(source_image)\n",
        "ax[0].set_title('Source image')\n",
        "ax[1].imshow(cartoonized_image)\n",
        "ax[1].set_title('Cartoonized image')\n",
        "[x.set_axis_off() for x in ax]\n",
        "plt.show()"
      ],
      "execution_count": 4,
      "outputs": [
        {
          "output_type": "stream",
          "name": "stderr",
          "text": [
            "/usr/local/lib/python3.7/dist-packages/tensorflow/python/keras/engine/base_layer_v1.py:1694: UserWarning: `layer.apply` is deprecated and will be removed in a future version. Please use `layer.__call__` method instead.\n",
            "  warnings.warn('`layer.apply` is deprecated and '\n"
          ]
        },
        {
          "output_type": "stream",
          "name": "stdout",
          "text": [
            "INFO:tensorflow:Restoring parameters from ./White-box-Cartoonization/test_code/saved_models/model-33999\n"
          ]
        },
        {
          "output_type": "stream",
          "name": "stderr",
          "text": [
            "100%|██████████| 147/147 [01:25<00:00,  1.72it/s]\n"
          ]
        },
        {
          "output_type": "error",
          "ename": "FileNotFoundError",
          "evalue": "ignored",
          "traceback": [
            "\u001b[0;31m---------------------------------------------------------------------------\u001b[0m",
            "\u001b[0;31mFileNotFoundError\u001b[0m                         Traceback (most recent call last)",
            "\u001b[0;32m<ipython-input-4-db2ffeff9587>\u001b[0m in \u001b[0;36m<module>\u001b[0;34m()\u001b[0m\n\u001b[1;32m      5\u001b[0m \u001b[0;34m\u001b[0m\u001b[0m\n\u001b[1;32m      6\u001b[0m \u001b[0mcartoonize\u001b[0m\u001b[0;34m.\u001b[0m\u001b[0mcartoonize\u001b[0m\u001b[0;34m(\u001b[0m\u001b[0mload_folder\u001b[0m\u001b[0;34m,\u001b[0m \u001b[0msave_folder\u001b[0m\u001b[0;34m,\u001b[0m \u001b[0mmodel_path\u001b[0m\u001b[0;34m)\u001b[0m\u001b[0;34m\u001b[0m\u001b[0;34m\u001b[0m\u001b[0m\n\u001b[0;32m----> 7\u001b[0;31m \u001b[0msource_image\u001b[0m \u001b[0;34m=\u001b[0m \u001b[0mplt\u001b[0m\u001b[0;34m.\u001b[0m\u001b[0mimread\u001b[0m\u001b[0;34m(\u001b[0m\u001b[0;34m'./content/run_01_jpgs.#.jpg'\u001b[0m\u001b[0;34m)\u001b[0m\u001b[0;34m\u001b[0m\u001b[0;34m\u001b[0m\u001b[0m\n\u001b[0m\u001b[1;32m      8\u001b[0m \u001b[0mcartoonized_image\u001b[0m \u001b[0;34m=\u001b[0m \u001b[0mplt\u001b[0m\u001b[0;34m.\u001b[0m\u001b[0mimread\u001b[0m\u001b[0;34m(\u001b[0m\u001b[0;34m'./cartoonized_images/run_01_jpgs.*.jpg'\u001b[0m\u001b[0;34m)\u001b[0m\u001b[0;34m\u001b[0m\u001b[0;34m\u001b[0m\u001b[0m\n\u001b[1;32m      9\u001b[0m \u001b[0;34m\u001b[0m\u001b[0m\n",
            "\u001b[0;32m/usr/local/lib/python3.7/dist-packages/matplotlib/pyplot.py\u001b[0m in \u001b[0;36mimread\u001b[0;34m(fname, format)\u001b[0m\n\u001b[1;32m   2059\u001b[0m \u001b[0;34m@\u001b[0m\u001b[0mdocstring\u001b[0m\u001b[0;34m.\u001b[0m\u001b[0mcopy\u001b[0m\u001b[0;34m(\u001b[0m\u001b[0mmatplotlib\u001b[0m\u001b[0;34m.\u001b[0m\u001b[0mimage\u001b[0m\u001b[0;34m.\u001b[0m\u001b[0mimread\u001b[0m\u001b[0;34m)\u001b[0m\u001b[0;34m\u001b[0m\u001b[0;34m\u001b[0m\u001b[0m\n\u001b[1;32m   2060\u001b[0m \u001b[0;32mdef\u001b[0m \u001b[0mimread\u001b[0m\u001b[0;34m(\u001b[0m\u001b[0mfname\u001b[0m\u001b[0;34m,\u001b[0m \u001b[0mformat\u001b[0m\u001b[0;34m=\u001b[0m\u001b[0;32mNone\u001b[0m\u001b[0;34m)\u001b[0m\u001b[0;34m:\u001b[0m\u001b[0;34m\u001b[0m\u001b[0;34m\u001b[0m\u001b[0m\n\u001b[0;32m-> 2061\u001b[0;31m     \u001b[0;32mreturn\u001b[0m \u001b[0mmatplotlib\u001b[0m\u001b[0;34m.\u001b[0m\u001b[0mimage\u001b[0m\u001b[0;34m.\u001b[0m\u001b[0mimread\u001b[0m\u001b[0;34m(\u001b[0m\u001b[0mfname\u001b[0m\u001b[0;34m,\u001b[0m \u001b[0mformat\u001b[0m\u001b[0;34m)\u001b[0m\u001b[0;34m\u001b[0m\u001b[0;34m\u001b[0m\u001b[0m\n\u001b[0m\u001b[1;32m   2062\u001b[0m \u001b[0;34m\u001b[0m\u001b[0m\n\u001b[1;32m   2063\u001b[0m \u001b[0;34m\u001b[0m\u001b[0m\n",
            "\u001b[0;32m/usr/local/lib/python3.7/dist-packages/matplotlib/image.py\u001b[0m in \u001b[0;36mimread\u001b[0;34m(fname, format)\u001b[0m\n\u001b[1;32m   1462\u001b[0m             raise ValueError('Only know how to handle PNG; with Pillow '\n\u001b[1;32m   1463\u001b[0m                              'installed, Matplotlib can handle more images')\n\u001b[0;32m-> 1464\u001b[0;31m         \u001b[0;32mwith\u001b[0m \u001b[0mImage\u001b[0m\u001b[0;34m.\u001b[0m\u001b[0mopen\u001b[0m\u001b[0;34m(\u001b[0m\u001b[0mfname\u001b[0m\u001b[0;34m)\u001b[0m \u001b[0;32mas\u001b[0m \u001b[0mimage\u001b[0m\u001b[0;34m:\u001b[0m\u001b[0;34m\u001b[0m\u001b[0;34m\u001b[0m\u001b[0m\n\u001b[0m\u001b[1;32m   1465\u001b[0m             \u001b[0;32mreturn\u001b[0m \u001b[0mpil_to_array\u001b[0m\u001b[0;34m(\u001b[0m\u001b[0mimage\u001b[0m\u001b[0;34m)\u001b[0m\u001b[0;34m\u001b[0m\u001b[0;34m\u001b[0m\u001b[0m\n\u001b[1;32m   1466\u001b[0m     \u001b[0;32mfrom\u001b[0m \u001b[0mmatplotlib\u001b[0m \u001b[0;32mimport\u001b[0m \u001b[0m_png\u001b[0m\u001b[0;34m\u001b[0m\u001b[0;34m\u001b[0m\u001b[0m\n",
            "\u001b[0;32m/usr/local/lib/python3.7/dist-packages/PIL/Image.py\u001b[0m in \u001b[0;36mopen\u001b[0;34m(fp, mode)\u001b[0m\n\u001b[1;32m   2841\u001b[0m \u001b[0;34m\u001b[0m\u001b[0m\n\u001b[1;32m   2842\u001b[0m     \u001b[0;32mif\u001b[0m \u001b[0mfilename\u001b[0m\u001b[0;34m:\u001b[0m\u001b[0;34m\u001b[0m\u001b[0;34m\u001b[0m\u001b[0m\n\u001b[0;32m-> 2843\u001b[0;31m         \u001b[0mfp\u001b[0m \u001b[0;34m=\u001b[0m \u001b[0mbuiltins\u001b[0m\u001b[0;34m.\u001b[0m\u001b[0mopen\u001b[0m\u001b[0;34m(\u001b[0m\u001b[0mfilename\u001b[0m\u001b[0;34m,\u001b[0m \u001b[0;34m\"rb\"\u001b[0m\u001b[0;34m)\u001b[0m\u001b[0;34m\u001b[0m\u001b[0;34m\u001b[0m\u001b[0m\n\u001b[0m\u001b[1;32m   2844\u001b[0m         \u001b[0mexclusive_fp\u001b[0m \u001b[0;34m=\u001b[0m \u001b[0;32mTrue\u001b[0m\u001b[0;34m\u001b[0m\u001b[0;34m\u001b[0m\u001b[0m\n\u001b[1;32m   2845\u001b[0m \u001b[0;34m\u001b[0m\u001b[0m\n",
            "\u001b[0;31mFileNotFoundError\u001b[0m: [Errno 2] No such file or directory: './content/run_01_jpgs.#.jpg'"
          ]
        }
      ]
    },
    {
      "cell_type": "code",
      "metadata": {
        "colab": {
          "base_uri": "https://localhost:8080/"
        },
        "id": "txDbVj8gqIHQ",
        "outputId": "a8bf3cb9-b67a-4610-c261-7d376e453637"
      },
      "source": [
        "!zip -r cartoonized_images.zip cartoonized_images/"
      ],
      "execution_count": 6,
      "outputs": [
        {
          "output_type": "stream",
          "name": "stdout",
          "text": [
            "  adding: cartoonized_images/ (stored 0%)\n",
            "  adding: cartoonized_images/run_01_jpgs.0062.jpg (deflated 0%)\n",
            "  adding: cartoonized_images/run_01_jpgs.0089.jpg (deflated 0%)\n",
            "  adding: cartoonized_images/run_01_jpgs.0098.jpg (deflated 0%)\n",
            "  adding: cartoonized_images/run_01_jpgs.0090.jpg (deflated 0%)\n",
            "  adding: cartoonized_images/run_01_jpgs.0017.jpg (deflated 0%)\n",
            "  adding: cartoonized_images/run_01_jpgs.0074.jpg (deflated 0%)\n",
            "  adding: cartoonized_images/run_01_jpgs.0142.jpg (deflated 0%)\n",
            "  adding: cartoonized_images/run_01_jpgs.0007.jpg (deflated 0%)\n",
            "  adding: cartoonized_images/run_01_jpgs.0105.jpg (deflated 0%)\n",
            "  adding: cartoonized_images/run_01_jpgs.0023.jpg (deflated 0%)\n",
            "  adding: cartoonized_images/run_01_jpgs.0025.jpg (deflated 0%)\n",
            "  adding: cartoonized_images/run_01_jpgs.0008.jpg (deflated 0%)\n",
            "  adding: cartoonized_images/run_01_jpgs.0078.jpg (deflated 0%)\n",
            "  adding: cartoonized_images/run_01_jpgs.0096.jpg (deflated 0%)\n",
            "  adding: cartoonized_images/run_01_jpgs.0027.jpg (deflated 0%)\n",
            "  adding: cartoonized_images/run_01_jpgs.0117.jpg (deflated 0%)\n",
            "  adding: cartoonized_images/run_01_jpgs.0056.jpg (deflated 0%)\n",
            "  adding: cartoonized_images/run_01_jpgs.0029.jpg (deflated 0%)\n",
            "  adding: cartoonized_images/run_01_jpgs.0118.jpg (deflated 0%)\n",
            "  adding: cartoonized_images/run_01_jpgs.0065.jpg (deflated 0%)\n",
            "  adding: cartoonized_images/run_01_jpgs.0125.jpg (deflated 0%)\n",
            "  adding: cartoonized_images/run_01_jpgs.0002.jpg (deflated 0%)\n",
            "  adding: cartoonized_images/run_01_jpgs.0037.jpg (deflated 0%)\n",
            "  adding: cartoonized_images/run_01_jpgs.0024.jpg (deflated 0%)\n",
            "  adding: cartoonized_images/run_01_jpgs.0033.jpg (deflated 0%)\n",
            "  adding: cartoonized_images/run_01_jpgs.0031.jpg (deflated 0%)\n",
            "  adding: cartoonized_images/run_01_jpgs.0043.jpg (deflated 0%)\n",
            "  adding: cartoonized_images/run_01_jpgs.0040.jpg (deflated 0%)\n",
            "  adding: cartoonized_images/run_01_jpgs.0020.jpg (deflated 0%)\n",
            "  adding: cartoonized_images/run_01_jpgs.0140.jpg (deflated 0%)\n",
            "  adding: cartoonized_images/run_01_jpgs.0034.jpg (deflated 0%)\n",
            "  adding: cartoonized_images/run_01_jpgs.0129.jpg (deflated 0%)\n",
            "  adding: cartoonized_images/run_01_jpgs.0109.jpg (deflated 0%)\n",
            "  adding: cartoonized_images/run_01_jpgs.0070.jpg (deflated 0%)\n",
            "  adding: cartoonized_images/run_01_jpgs.0006.jpg (deflated 0%)\n",
            "  adding: cartoonized_images/run_01_jpgs.0081.jpg (deflated 0%)\n",
            "  adding: cartoonized_images/run_01_jpgs.0015.jpg (deflated 0%)\n",
            "  adding: cartoonized_images/run_01_jpgs.0039.jpg (deflated 0%)\n",
            "  adding: cartoonized_images/run_01_jpgs.0018.jpg (deflated 0%)\n",
            "  adding: cartoonized_images/run_01_jpgs.0127.jpg (deflated 0%)\n",
            "  adding: cartoonized_images/run_01_jpgs.0139.jpg (deflated 0%)\n",
            "  adding: cartoonized_images/run_01_jpgs.0135.jpg (deflated 0%)\n",
            "  adding: cartoonized_images/run_01_jpgs.0112.jpg (deflated 0%)\n",
            "  adding: cartoonized_images/run_01_jpgs.0114.jpg (deflated 0%)\n",
            "  adding: cartoonized_images/run_01_jpgs.0131.jpg (deflated 0%)\n",
            "  adding: cartoonized_images/run_01_jpgs.0013.jpg (deflated 0%)\n",
            "  adding: cartoonized_images/run_01_jpgs.0046.jpg (deflated 0%)\n",
            "  adding: cartoonized_images/run_01_jpgs.0092.jpg (deflated 0%)\n",
            "  adding: cartoonized_images/run_01_jpgs.0032.jpg (deflated 0%)\n",
            "  adding: cartoonized_images/run_01_jpgs.0036.jpg (deflated 0%)\n",
            "  adding: cartoonized_images/run_01_jpgs.0132.jpg (deflated 0%)\n",
            "  adding: cartoonized_images/run_01_jpgs.0026.jpg (deflated 0%)\n",
            "  adding: cartoonized_images/run_01_jpgs.0084.jpg (deflated 0%)\n",
            "  adding: cartoonized_images/run_01_jpgs.0047.jpg (deflated 0%)\n",
            "  adding: cartoonized_images/run_01_jpgs.0133.jpg (deflated 0%)\n",
            "  adding: cartoonized_images/run_01_jpgs.0108.jpg (deflated 0%)\n",
            "  adding: cartoonized_images/run_01_jpgs.0075.jpg (deflated 0%)\n",
            "  adding: cartoonized_images/run_01_jpgs.0137.jpg (deflated 0%)\n",
            "  adding: cartoonized_images/run_01_jpgs.0068.jpg (deflated 0%)\n",
            "  adding: cartoonized_images/run_01_jpgs.0044.jpg (deflated 0%)\n",
            "  adding: cartoonized_images/run_01_jpgs.0097.jpg (deflated 0%)\n",
            "  adding: cartoonized_images/run_01_jpgs.0077.jpg (deflated 0%)\n",
            "  adding: cartoonized_images/run_01_jpgs.0012.jpg (deflated 0%)\n",
            "  adding: cartoonized_images/run_01_jpgs.0035.jpg (deflated 0%)\n",
            "  adding: cartoonized_images/run_01_jpgs.0120.jpg (deflated 0%)\n",
            "  adding: cartoonized_images/image.jpg (deflated 0%)\n",
            "  adding: cartoonized_images/run_01_jpgs.0126.jpg (deflated 0%)\n",
            "  adding: cartoonized_images/run_01_jpgs.0095.jpg (deflated 0%)\n",
            "  adding: cartoonized_images/run_01_jpgs.0116.jpg (deflated 0%)\n",
            "  adding: cartoonized_images/run_01_jpgs.0130.jpg (deflated 0%)\n",
            "  adding: cartoonized_images/run_01_jpgs.0128.jpg (deflated 0%)\n",
            "  adding: cartoonized_images/run_01_jpgs.0115.jpg (deflated 0%)\n",
            "  adding: cartoonized_images/run_01_jpgs.0085.jpg (deflated 0%)\n",
            "  adding: cartoonized_images/run_01_jpgs.0052.jpg (deflated 0%)\n",
            "  adding: cartoonized_images/run_01_jpgs.0123.jpg (deflated 0%)\n",
            "  adding: cartoonized_images/run_01_jpgs.0049.jpg (deflated 0%)\n",
            "  adding: cartoonized_images/run_01_jpgs.0019.jpg (deflated 0%)\n",
            "  adding: cartoonized_images/run_01_jpgs.0080.jpg (deflated 0%)\n",
            "  adding: cartoonized_images/run_01_jpgs.0122.jpg (deflated 0%)\n",
            "  adding: cartoonized_images/run_01_jpgs.0113.jpg (deflated 0%)\n",
            "  adding: cartoonized_images/run_01_jpgs.0107.jpg (deflated 0%)\n",
            "  adding: cartoonized_images/run_01_jpgs.0143.jpg (deflated 0%)\n",
            "  adding: cartoonized_images/run_01_jpgs.0058.jpg (deflated 0%)\n",
            "  adding: cartoonized_images/run_01_jpgs.0030.jpg (deflated 0%)\n",
            "  adding: cartoonized_images/run_01_jpgs.0141.jpg (deflated 0%)\n",
            "  adding: cartoonized_images/run_01_jpgs.0003.jpg (deflated 0%)\n",
            "  adding: cartoonized_images/run_01_jpgs.0087.jpg (deflated 0%)\n",
            "  adding: cartoonized_images/run_01_jpgs.0028.jpg (deflated 0%)\n",
            "  adding: cartoonized_images/run_01_jpgs.0100.jpg (deflated 0%)\n",
            "  adding: cartoonized_images/run_01_jpgs.0069.jpg (deflated 0%)\n",
            "  adding: cartoonized_images/run_01_jpgs.0064.jpg (deflated 0%)\n",
            "  adding: cartoonized_images/run_01_jpgs.0004.jpg (deflated 0%)\n",
            "  adding: cartoonized_images/run_01_jpgs.0094.jpg (deflated 0%)\n",
            "  adding: cartoonized_images/run_01_jpgs.0011.jpg (deflated 0%)\n",
            "  adding: cartoonized_images/run_01_jpgs.0111.jpg (deflated 0%)\n",
            "  adding: cartoonized_images/run_01_jpgs.0145.jpg (deflated 0%)\n",
            "  adding: cartoonized_images/run_01_jpgs.0016.jpg (deflated 0%)\n",
            "  adding: cartoonized_images/run_01_jpgs.0005.jpg (deflated 0%)\n",
            "  adding: cartoonized_images/run_01_jpgs.0144.jpg (deflated 0%)\n",
            "  adding: cartoonized_images/run_01_jpgs.0045.jpg (deflated 0%)\n",
            "  adding: cartoonized_images/run_01_jpgs.0124.jpg (deflated 0%)\n",
            "  adding: cartoonized_images/run_01_jpgs.0071.jpg (deflated 0%)\n",
            "  adding: cartoonized_images/run_01_jpgs.0001.jpg (deflated 0%)\n",
            "  adding: cartoonized_images/run_01_jpgs.0021.jpg (deflated 0%)\n",
            "  adding: cartoonized_images/run_01_jpgs.0048.jpg (deflated 0%)\n",
            "  adding: cartoonized_images/run_01_jpgs.0102.jpg (deflated 0%)\n",
            "  adding: cartoonized_images/run_01_jpgs.0053.jpg (deflated 0%)\n",
            "  adding: cartoonized_images/run_01_jpgs.0060.jpg (deflated 0%)\n",
            "  adding: cartoonized_images/run_01_jpgs.0104.jpg (deflated 0%)\n",
            "  adding: cartoonized_images/run_01_jpgs.0054.jpg (deflated 0%)\n",
            "  adding: cartoonized_images/run_01_jpgs.0076.jpg (deflated 0%)\n",
            "  adding: cartoonized_images/run_01_jpgs.0022.jpg (deflated 0%)\n",
            "  adding: cartoonized_images/run_01_jpgs.0106.jpg (deflated 0%)\n",
            "  adding: cartoonized_images/run_01_jpgs.0088.jpg (deflated 0%)\n",
            "  adding: cartoonized_images/run_01_jpgs.0055.jpg (deflated 0%)\n",
            "  adding: cartoonized_images/run_01_jpgs.0136.jpg (deflated 0%)\n",
            "  adding: cartoonized_images/run_01_jpgs.0134.jpg (deflated 0%)\n",
            "  adding: cartoonized_images/run_01_jpgs.0061.jpg (deflated 0%)\n",
            "  adding: cartoonized_images/run_01_jpgs.0066.jpg (deflated 0%)\n",
            "  adding: cartoonized_images/run_01_jpgs.0072.jpg (deflated 0%)\n",
            "  adding: cartoonized_images/run_01_jpgs.0059.jpg (deflated 0%)\n",
            "  adding: cartoonized_images/run_01_jpgs.0093.jpg (deflated 0%)\n",
            "  adding: cartoonized_images/run_01_jpgs.0110.jpg (deflated 0%)\n",
            "  adding: cartoonized_images/run_01_jpgs.0014.jpg (deflated 0%)\n",
            "  adding: cartoonized_images/run_01_jpgs.0063.jpg (deflated 0%)\n",
            "  adding: cartoonized_images/run_01_jpgs.0146.jpg (deflated 0%)\n",
            "  adding: cartoonized_images/run_01_jpgs.0050.jpg (deflated 0%)\n",
            "  adding: cartoonized_images/run_01_jpgs.0083.jpg (deflated 0%)\n",
            "  adding: cartoonized_images/run_01_jpgs.0079.jpg (deflated 0%)\n",
            "  adding: cartoonized_images/run_01_jpgs.0121.jpg (deflated 0%)\n",
            "  adding: cartoonized_images/run_01_jpgs.0042.jpg (deflated 0%)\n",
            "  adding: cartoonized_images/run_01_jpgs.0041.jpg (deflated 0%)\n",
            "  adding: cartoonized_images/run_01_jpgs.0082.jpg (deflated 0%)\n",
            "  adding: cartoonized_images/run_01_jpgs.0086.jpg (deflated 0%)\n",
            "  adding: cartoonized_images/run_01_jpgs.0119.jpg (deflated 0%)\n",
            "  adding: cartoonized_images/run_01_jpgs.0101.jpg (deflated 0%)\n",
            "  adding: cartoonized_images/run_01_jpgs.0038.jpg (deflated 0%)\n",
            "  adding: cartoonized_images/run_01_jpgs.0091.jpg (deflated 0%)\n",
            "  adding: cartoonized_images/run_01_jpgs.0009.jpg (deflated 0%)\n",
            "  adding: cartoonized_images/run_01_jpgs.0138.jpg (deflated 0%)\n",
            "  adding: cartoonized_images/run_01_jpgs.0073.jpg (deflated 0%)\n",
            "  adding: cartoonized_images/run_01_jpgs.0103.jpg (deflated 0%)\n",
            "  adding: cartoonized_images/run_01_jpgs.0067.jpg (deflated 0%)\n",
            "  adding: cartoonized_images/run_01_jpgs.0057.jpg (deflated 0%)\n",
            "  adding: cartoonized_images/run_01_jpgs.0051.jpg (deflated 0%)\n",
            "  adding: cartoonized_images/run_01_jpgs.0099.jpg (deflated 0%)\n",
            "  adding: cartoonized_images/run_01_jpgs.0010.jpg (deflated 0%)\n"
          ]
        }
      ]
    },
    {
      "cell_type": "code",
      "metadata": {
        "id": "iCKKajacntri"
      },
      "source": [
        "# Directory where SavedModel is to be saved\n",
        "!mkdir -p models/CartoonGAN/saved_model"
      ],
      "execution_count": null,
      "outputs": []
    },
    {
      "cell_type": "code",
      "metadata": {
        "id": "8ziCMqe5oNLS"
      },
      "source": [
        "# Comes with the GitHub repo\n",
        "# These will be needed to instantiate the model\n",
        "import network\n",
        "import guided_filter"
      ],
      "execution_count": null,
      "outputs": []
    },
    {
      "cell_type": "code",
      "metadata": {
        "id": "bD6vV7qAoazh"
      },
      "source": [
        "# We will be using TensorFlow session\n",
        "import tensorflow.compat.v1 as tf\n",
        "tf.disable_eager_execution()"
      ],
      "execution_count": null,
      "outputs": []
    },
    {
      "cell_type": "code",
      "metadata": {
        "id": "bacF_hbWrocX",
        "colab": {
          "base_uri": "https://localhost:8080/",
          "height": 35
        },
        "outputId": "2607ce40-26d3-4505-cd93-c64fc7bd4be4"
      },
      "source": [
        "tf.__version__"
      ],
      "execution_count": null,
      "outputs": [
        {
          "output_type": "execute_result",
          "data": {
            "application/vnd.google.colaboratory.intrinsic+json": {
              "type": "string"
            },
            "text/plain": [
              "'2.3.0'"
            ]
          },
          "metadata": {
            "tags": []
          },
          "execution_count": 8
        }
      ]
    },
    {
      "cell_type": "code",
      "metadata": {
        "id": "4CB7QHXYoeKQ",
        "colab": {
          "base_uri": "https://localhost:8080/",
          "height": 207
        },
        "outputId": "35afb196-33e2-4ba8-f652-221e1d737742"
      },
      "source": [
        "tf.reset_default_graph()\n",
        "  \n",
        "config = tf.ConfigProto()\n",
        "config.gpu_options.allow_growth = True\n",
        "\n",
        "with tf.Session(config=config) as sess:\n",
        "  # Create placeholder for the input\n",
        "  input_photo = tf.placeholder(tf.float32, [1, None, None, 3], name='input_photo')\n",
        "  \n",
        "  # Run the input placeholder through the generator, and then apply a \n",
        "  # filter to process the generator output\n",
        "  network_out = network.unet_generator(input_photo)\n",
        "  final_out = guided_filter.guided_filter(input_photo, network_out, r=1, eps=5e-3)\n",
        "  final_out = tf.identity(final_out, name='final_output') # Create an identical filtering layer \n",
        " \n",
        "  # The above process is basically needed to construct the computation graph for the\n",
        "  # current session\n",
        "  \n",
        "  # Get the generator variables and restore the pre-trained checkpoints in the \n",
        "  # current session\n",
        "  all_vars = tf.trainable_variables()\n",
        "  gene_vars = [var for var in all_vars if 'generator' in var.name]\n",
        "  saver = tf.train.Saver(var_list=gene_vars)\n",
        "  sess.run(tf.global_variables_initializer())\n",
        "  saver.restore(sess, tf.train.latest_checkpoint(model_path))\n",
        "  \n",
        "  # Export to SavedModel\n",
        "  tf.saved_model.simple_save(\n",
        "      sess,\n",
        "      '/content/models/CartoonGAN/saved_model',\n",
        "      inputs={input_photo.name: input_photo},\n",
        "      outputs={final_out.name: final_out})"
      ],
      "execution_count": null,
      "outputs": [
        {
          "output_type": "stream",
          "text": [
            "INFO:tensorflow:Restoring parameters from ./White-box-Cartoonization/test_code/saved_models/model-33999\n",
            "WARNING:tensorflow:From <ipython-input-9-ce5e78fe0d55>:32: simple_save (from tensorflow.python.saved_model.simple_save) is deprecated and will be removed in a future version.\n",
            "Instructions for updating:\n",
            "This function will only be available through the v1 compatibility library as tf.compat.v1.saved_model.simple_save.\n",
            "WARNING:tensorflow:From /usr/local/lib/python3.6/dist-packages/tensorflow/python/saved_model/signature_def_utils_impl.py:201: build_tensor_info (from tensorflow.python.saved_model.utils_impl) is deprecated and will be removed in a future version.\n",
            "Instructions for updating:\n",
            "This function will only be available through the v1 compatibility library as tf.compat.v1.saved_model.utils.build_tensor_info or tf.compat.v1.saved_model.build_tensor_info.\n",
            "INFO:tensorflow:Assets added to graph.\n",
            "INFO:tensorflow:No assets to write.\n",
            "INFO:tensorflow:SavedModel written to: /content/models/CartoonGAN/saved_model/saved_model.pb\n"
          ],
          "name": "stdout"
        }
      ]
    },
    {
      "cell_type": "code",
      "metadata": {
        "id": "9Kd_AW8PossW",
        "colab": {
          "base_uri": "https://localhost:8080/",
          "height": 102
        },
        "outputId": "23d9ff22-2460-491a-8213-82d780dfd53c"
      },
      "source": [
        "ls -lah models/CartoonGAN/saved_model"
      ],
      "execution_count": null,
      "outputs": [
        {
          "output_type": "stream",
          "text": [
            "total 152K\n",
            "drwxr-xr-x 3 root root 4.0K Sep 13 19:08 \u001b[0m\u001b[01;34m.\u001b[0m/\n",
            "drwxr-xr-x 3 root root 4.0K Sep 13 19:08 \u001b[01;34m..\u001b[0m/\n",
            "-rw-r--r-- 1 root root 137K Sep 13 19:08 saved_model.pb\n",
            "drwxr-xr-x 2 root root 4.0K Sep 13 19:08 \u001b[01;34mvariables\u001b[0m/\n"
          ],
          "name": "stdout"
        }
      ]
    },
    {
      "cell_type": "markdown",
      "metadata": {
        "id": "zIdnJ-05FlLQ"
      },
      "source": [
        "## TensorFlow.js conversion"
      ]
    },
    {
      "cell_type": "code",
      "metadata": {
        "id": "tDhT_2O9G9oB",
        "colab": {
          "base_uri": "https://localhost:8080/",
          "height": 136
        },
        "outputId": "49c4aa47-4b1b-4e55-de20-304a0e3b9f3b"
      },
      "source": [
        "# Install tensorflowjs for tensorflowjs_converter\n",
        "!pip install tensorflowjs --quiet"
      ],
      "execution_count": null,
      "outputs": [
        {
          "output_type": "stream",
          "text": [
            "\u001b[K     |████████████████████████████████| 71kB 4.0MB/s \n",
            "\u001b[K     |████████████████████████████████| 137.3MB 79kB/s \n",
            "\u001b[K     |████████████████████████████████| 92kB 10.4MB/s \n",
            "\u001b[K     |████████████████████████████████| 256kB 48.6MB/s \n",
            "\u001b[K     |████████████████████████████████| 952kB 41.4MB/s \n",
            "\u001b[?25h  Building wheel for PyInquirer (setup.py) ... \u001b[?25l\u001b[?25hdone\n",
            "\u001b[31mERROR: datascience 0.10.6 has requirement folium==0.2.1, but you'll have folium 0.8.3 which is incompatible.\u001b[0m\n"
          ],
          "name": "stdout"
        }
      ]
    },
    {
      "cell_type": "code",
      "metadata": {
        "id": "dHIH1dATst0l",
        "colab": {
          "base_uri": "https://localhost:8080/",
          "height": 853
        },
        "outputId": "21bac097-fa99-4127-f827-2e9da9f36722"
      },
      "source": [
        "!tensorflowjs_converter --input_format=tf_saved_model --output_node_names='final_output' \\\n",
        "    models/CartoonGAN/saved_model models/CartoonGAN/web"
      ],
      "execution_count": null,
      "outputs": [
        {
          "output_type": "stream",
          "text": [
            "2020-09-13 19:08:34.743562: I tensorflow/core/platform/cpu_feature_guard.cc:142] This TensorFlow binary is optimized with oneAPI Deep Neural Network Library (oneDNN)to use the following CPU instructions in performance-critical operations:  AVX2 FMA\n",
            "To enable them in other operations, rebuild TensorFlow with the appropriate compiler flags.\n",
            "2020-09-13 19:08:34.747405: I tensorflow/core/platform/profile_utils/cpu_utils.cc:104] CPU Frequency: 2200000000 Hz\n",
            "2020-09-13 19:08:34.747650: I tensorflow/compiler/xla/service/service.cc:168] XLA service 0x2928f40 initialized for platform Host (this does not guarantee that XLA will be used). Devices:\n",
            "2020-09-13 19:08:34.747691: I tensorflow/compiler/xla/service/service.cc:176]   StreamExecutor device (0): Host, Default Version\n",
            "WARNING:tensorflow:Issue encountered when serializing model_variables.\n",
            "Type is unsupported, or the types of the items don't match field type in CollectionDef. Note this is a warning and probably safe to ignore.\n",
            "to_proto not supported in EAGER mode.\n",
            "WARNING:tensorflow:Issue encountered when serializing variables.\n",
            "Type is unsupported, or the types of the items don't match field type in CollectionDef. Note this is a warning and probably safe to ignore.\n",
            "to_proto not supported in EAGER mode.\n",
            "WARNING:tensorflow:Issue encountered when serializing trainable_variables.\n",
            "Type is unsupported, or the types of the items don't match field type in CollectionDef. Note this is a warning and probably safe to ignore.\n",
            "to_proto not supported in EAGER mode.\n",
            "2020-09-13 19:08:35.023246: I tensorflow/core/grappler/devices.cc:78] Number of eligible GPUs (core count >= 8, compute capability >= 0.0): 0 (Note: TensorFlow was not compiled with CUDA or ROCm support)\n",
            "2020-09-13 19:08:35.023411: I tensorflow/core/grappler/clusters/single_machine.cc:356] Starting new session\n",
            "2020-09-13 19:08:35.026579: I tensorflow/core/grappler/optimizers/meta_optimizer.cc:816] Optimization results for grappler item: graph_to_optimize\n",
            "2020-09-13 19:08:35.026625: I tensorflow/core/grappler/optimizers/meta_optimizer.cc:818]   function_optimizer: function_optimizer did nothing. time = 0.002ms.\n",
            "2020-09-13 19:08:35.026636: I tensorflow/core/grappler/optimizers/meta_optimizer.cc:818]   function_optimizer: function_optimizer did nothing. time = 0ms.\n",
            "2020-09-13 19:08:35.393079: I tensorflow/core/grappler/optimizers/meta_optimizer.cc:816] Optimization results for grappler item: graph_to_optimize\n",
            "2020-09-13 19:08:35.393138: I tensorflow/core/grappler/optimizers/meta_optimizer.cc:818]   debug_stripper: debug_stripper did nothing. time = 0.016ms.\n",
            "2020-09-13 19:08:35.393149: I tensorflow/core/grappler/optimizers/meta_optimizer.cc:818]   model_pruner: Graph size after: 172 nodes (-36), 199 edges (-36), time = 1.063ms.\n",
            "2020-09-13 19:08:35.393162: I tensorflow/core/grappler/optimizers/meta_optimizer.cc:818]   constant_folding: Graph size after: 172 nodes (0), 199 edges (0), time = 7.92ms.\n",
            "2020-09-13 19:08:35.393175: I tensorflow/core/grappler/optimizers/meta_optimizer.cc:818]   arithmetic_optimizer: Graph size after: 174 nodes (2), 201 edges (2), time = 3.504ms.\n",
            "2020-09-13 19:08:35.393188: I tensorflow/core/grappler/optimizers/meta_optimizer.cc:818]   dependency_optimizer: Graph size after: 172 nodes (-2), 197 edges (-4), time = 0.922ms.\n",
            "2020-09-13 19:08:35.393201: I tensorflow/core/grappler/optimizers/meta_optimizer.cc:818]   model_pruner: Graph size after: 172 nodes (0), 197 edges (0), time = 0.488ms.\n",
            "2020-09-13 19:08:35.393213: I tensorflow/core/grappler/optimizers/meta_optimizer.cc:818]   constant_folding: Graph size after: 172 nodes (0), 197 edges (0), time = 4.012ms.\n",
            "2020-09-13 19:08:35.393226: I tensorflow/core/grappler/optimizers/meta_optimizer.cc:818]   arithmetic_optimizer: Graph size after: 172 nodes (0), 197 edges (0), time = 3.426ms.\n",
            "2020-09-13 19:08:35.393238: I tensorflow/core/grappler/optimizers/meta_optimizer.cc:818]   dependency_optimizer: Graph size after: 172 nodes (0), 197 edges (0), time = 0.878ms.\n",
            "2020-09-13 19:08:35.393251: I tensorflow/core/grappler/optimizers/meta_optimizer.cc:818]   debug_stripper: debug_stripper did nothing. time = 0.077ms.\n",
            "2020-09-13 19:08:35.393263: I tensorflow/core/grappler/optimizers/meta_optimizer.cc:818]   model_pruner: Graph size after: 172 nodes (0), 197 edges (0), time = 0.421ms.\n",
            "2020-09-13 19:08:35.393276: I tensorflow/core/grappler/optimizers/meta_optimizer.cc:818]   constant_folding: Graph size after: 172 nodes (0), 197 edges (0), time = 3.801ms.\n",
            "2020-09-13 19:08:35.393288: I tensorflow/core/grappler/optimizers/meta_optimizer.cc:818]   arithmetic_optimizer: Graph size after: 172 nodes (0), 197 edges (0), time = 3.982ms.\n",
            "2020-09-13 19:08:35.393302: I tensorflow/core/grappler/optimizers/meta_optimizer.cc:818]   dependency_optimizer: Graph size after: 172 nodes (0), 197 edges (0), time = 0.905ms.\n",
            "2020-09-13 19:08:35.393314: I tensorflow/core/grappler/optimizers/meta_optimizer.cc:818]   model_pruner: Graph size after: 172 nodes (0), 197 edges (0), time = 0.489ms.\n",
            "2020-09-13 19:08:35.393326: I tensorflow/core/grappler/optimizers/meta_optimizer.cc:818]   constant_folding: Graph size after: 172 nodes (0), 197 edges (0), time = 3.749ms.\n",
            "2020-09-13 19:08:35.393338: I tensorflow/core/grappler/optimizers/meta_optimizer.cc:818]   arithmetic_optimizer: Graph size after: 172 nodes (0), 197 edges (0), time = 3.657ms.\n",
            "2020-09-13 19:08:35.393350: I tensorflow/core/grappler/optimizers/meta_optimizer.cc:818]   dependency_optimizer: Graph size after: 172 nodes (0), 197 edges (0), time = 0.919ms.\n",
            "2020-09-13 19:08:35.439428: I tensorflow/core/grappler/optimizers/meta_optimizer.cc:816] Optimization results for grappler item: graph_to_optimize\n",
            "2020-09-13 19:08:35.439497: I tensorflow/core/grappler/optimizers/meta_optimizer.cc:818]   remapper: Graph size after: 154 nodes (-18), 179 edges (-18), time = 0.663ms.\n",
            "2020-09-13 19:08:35.439508: I tensorflow/core/grappler/optimizers/meta_optimizer.cc:818]   constant_folding: Graph size after: 154 nodes (0), 179 edges (0), time = 4.699ms.\n",
            "2020-09-13 19:08:35.439520: I tensorflow/core/grappler/optimizers/meta_optimizer.cc:818]   arithmetic_optimizer: Graph size after: 154 nodes (0), 179 edges (0), time = 3.708ms.\n",
            "2020-09-13 19:08:35.439530: I tensorflow/core/grappler/optimizers/meta_optimizer.cc:818]   dependency_optimizer: Graph size after: 154 nodes (0), 179 edges (0), time = 0.932ms.\n",
            "2020-09-13 19:08:35.439544: I tensorflow/core/grappler/optimizers/meta_optimizer.cc:818]   remapper: Graph size after: 154 nodes (0), 179 edges (0), time = 0.412ms.\n",
            "2020-09-13 19:08:35.439555: I tensorflow/core/grappler/optimizers/meta_optimizer.cc:818]   constant_folding: Graph size after: 154 nodes (0), 179 edges (0), time = 3.899ms.\n",
            "2020-09-13 19:08:35.439567: I tensorflow/core/grappler/optimizers/meta_optimizer.cc:818]   arithmetic_optimizer: Graph size after: 154 nodes (0), 179 edges (0), time = 3.704ms.\n",
            "2020-09-13 19:08:35.439580: I tensorflow/core/grappler/optimizers/meta_optimizer.cc:818]   dependency_optimizer: Graph size after: 154 nodes (0), 179 edges (0), time = 0.928ms.\n",
            "Writing weight file models/CartoonGAN/web/model.json...\n"
          ],
          "name": "stdout"
        }
      ]
    },
    {
      "cell_type": "markdown",
      "metadata": {
        "id": "RMitmwhpFtyU"
      },
      "source": [
        "**Quantize the weights (Float 16)**"
      ]
    },
    {
      "cell_type": "code",
      "metadata": {
        "id": "yhBpgVzNujVJ",
        "colab": {
          "base_uri": "https://localhost:8080/",
          "height": 853
        },
        "outputId": "4da3f629-9c16-4a35-8d9c-bdb7cbe8e08e"
      },
      "source": [
        "!tensorflowjs_converter --quantize_float16 \\\n",
        "    --input_format=tf_saved_model --output_node_names='final_output' \\\n",
        "    models/CartoonGAN/saved_model models/CartoonGAN/web-float16"
      ],
      "execution_count": null,
      "outputs": [
        {
          "output_type": "stream",
          "text": [
            "2020-09-13 19:08:38.438095: I tensorflow/core/platform/cpu_feature_guard.cc:142] This TensorFlow binary is optimized with oneAPI Deep Neural Network Library (oneDNN)to use the following CPU instructions in performance-critical operations:  AVX2 FMA\n",
            "To enable them in other operations, rebuild TensorFlow with the appropriate compiler flags.\n",
            "2020-09-13 19:08:38.442005: I tensorflow/core/platform/profile_utils/cpu_utils.cc:104] CPU Frequency: 2200000000 Hz\n",
            "2020-09-13 19:08:38.442252: I tensorflow/compiler/xla/service/service.cc:168] XLA service 0x19c6f40 initialized for platform Host (this does not guarantee that XLA will be used). Devices:\n",
            "2020-09-13 19:08:38.442289: I tensorflow/compiler/xla/service/service.cc:176]   StreamExecutor device (0): Host, Default Version\n",
            "WARNING:tensorflow:Issue encountered when serializing model_variables.\n",
            "Type is unsupported, or the types of the items don't match field type in CollectionDef. Note this is a warning and probably safe to ignore.\n",
            "to_proto not supported in EAGER mode.\n",
            "WARNING:tensorflow:Issue encountered when serializing variables.\n",
            "Type is unsupported, or the types of the items don't match field type in CollectionDef. Note this is a warning and probably safe to ignore.\n",
            "to_proto not supported in EAGER mode.\n",
            "WARNING:tensorflow:Issue encountered when serializing trainable_variables.\n",
            "Type is unsupported, or the types of the items don't match field type in CollectionDef. Note this is a warning and probably safe to ignore.\n",
            "to_proto not supported in EAGER mode.\n",
            "2020-09-13 19:08:38.719388: I tensorflow/core/grappler/devices.cc:78] Number of eligible GPUs (core count >= 8, compute capability >= 0.0): 0 (Note: TensorFlow was not compiled with CUDA or ROCm support)\n",
            "2020-09-13 19:08:38.719566: I tensorflow/core/grappler/clusters/single_machine.cc:356] Starting new session\n",
            "2020-09-13 19:08:38.722741: I tensorflow/core/grappler/optimizers/meta_optimizer.cc:816] Optimization results for grappler item: graph_to_optimize\n",
            "2020-09-13 19:08:38.722790: I tensorflow/core/grappler/optimizers/meta_optimizer.cc:818]   function_optimizer: function_optimizer did nothing. time = 0.002ms.\n",
            "2020-09-13 19:08:38.722801: I tensorflow/core/grappler/optimizers/meta_optimizer.cc:818]   function_optimizer: function_optimizer did nothing. time = 0ms.\n",
            "2020-09-13 19:08:39.100712: I tensorflow/core/grappler/optimizers/meta_optimizer.cc:816] Optimization results for grappler item: graph_to_optimize\n",
            "2020-09-13 19:08:39.100774: I tensorflow/core/grappler/optimizers/meta_optimizer.cc:818]   debug_stripper: debug_stripper did nothing. time = 0.015ms.\n",
            "2020-09-13 19:08:39.100785: I tensorflow/core/grappler/optimizers/meta_optimizer.cc:818]   model_pruner: Graph size after: 172 nodes (-36), 199 edges (-36), time = 1.256ms.\n",
            "2020-09-13 19:08:39.100802: I tensorflow/core/grappler/optimizers/meta_optimizer.cc:818]   constant_folding: Graph size after: 172 nodes (0), 199 edges (0), time = 8.772ms.\n",
            "2020-09-13 19:08:39.100815: I tensorflow/core/grappler/optimizers/meta_optimizer.cc:818]   arithmetic_optimizer: Graph size after: 174 nodes (2), 201 edges (2), time = 3.739ms.\n",
            "2020-09-13 19:08:39.100824: I tensorflow/core/grappler/optimizers/meta_optimizer.cc:818]   dependency_optimizer: Graph size after: 172 nodes (-2), 197 edges (-4), time = 0.978ms.\n",
            "2020-09-13 19:08:39.100837: I tensorflow/core/grappler/optimizers/meta_optimizer.cc:818]   model_pruner: Graph size after: 172 nodes (0), 197 edges (0), time = 0.531ms.\n",
            "2020-09-13 19:08:39.100849: I tensorflow/core/grappler/optimizers/meta_optimizer.cc:818]   constant_folding: Graph size after: 172 nodes (0), 197 edges (0), time = 4.654ms.\n",
            "2020-09-13 19:08:39.100862: I tensorflow/core/grappler/optimizers/meta_optimizer.cc:818]   arithmetic_optimizer: Graph size after: 172 nodes (0), 197 edges (0), time = 3.586ms.\n",
            "2020-09-13 19:08:39.100874: I tensorflow/core/grappler/optimizers/meta_optimizer.cc:818]   dependency_optimizer: Graph size after: 172 nodes (0), 197 edges (0), time = 0.934ms.\n",
            "2020-09-13 19:08:39.100886: I tensorflow/core/grappler/optimizers/meta_optimizer.cc:818]   debug_stripper: debug_stripper did nothing. time = 0.078ms.\n",
            "2020-09-13 19:08:39.100898: I tensorflow/core/grappler/optimizers/meta_optimizer.cc:818]   model_pruner: Graph size after: 172 nodes (0), 197 edges (0), time = 0.435ms.\n",
            "2020-09-13 19:08:39.100910: I tensorflow/core/grappler/optimizers/meta_optimizer.cc:818]   constant_folding: Graph size after: 172 nodes (0), 197 edges (0), time = 3.966ms.\n",
            "2020-09-13 19:08:39.101087: I tensorflow/core/grappler/optimizers/meta_optimizer.cc:818]   arithmetic_optimizer: Graph size after: 172 nodes (0), 197 edges (0), time = 4.267ms.\n",
            "2020-09-13 19:08:39.101137: I tensorflow/core/grappler/optimizers/meta_optimizer.cc:818]   dependency_optimizer: Graph size after: 172 nodes (0), 197 edges (0), time = 1.021ms.\n",
            "2020-09-13 19:08:39.101152: I tensorflow/core/grappler/optimizers/meta_optimizer.cc:818]   model_pruner: Graph size after: 172 nodes (0), 197 edges (0), time = 0.543ms.\n",
            "2020-09-13 19:08:39.101164: I tensorflow/core/grappler/optimizers/meta_optimizer.cc:818]   constant_folding: Graph size after: 172 nodes (0), 197 edges (0), time = 4.169ms.\n",
            "2020-09-13 19:08:39.101176: I tensorflow/core/grappler/optimizers/meta_optimizer.cc:818]   arithmetic_optimizer: Graph size after: 172 nodes (0), 197 edges (0), time = 3.82ms.\n",
            "2020-09-13 19:08:39.101187: I tensorflow/core/grappler/optimizers/meta_optimizer.cc:818]   dependency_optimizer: Graph size after: 172 nodes (0), 197 edges (0), time = 0.945ms.\n",
            "2020-09-13 19:08:39.150528: I tensorflow/core/grappler/optimizers/meta_optimizer.cc:816] Optimization results for grappler item: graph_to_optimize\n",
            "2020-09-13 19:08:39.150591: I tensorflow/core/grappler/optimizers/meta_optimizer.cc:818]   remapper: Graph size after: 154 nodes (-18), 179 edges (-18), time = 0.687ms.\n",
            "2020-09-13 19:08:39.150602: I tensorflow/core/grappler/optimizers/meta_optimizer.cc:818]   constant_folding: Graph size after: 154 nodes (0), 179 edges (0), time = 4.966ms.\n",
            "2020-09-13 19:08:39.150613: I tensorflow/core/grappler/optimizers/meta_optimizer.cc:818]   arithmetic_optimizer: Graph size after: 154 nodes (0), 179 edges (0), time = 3.96ms.\n",
            "2020-09-13 19:08:39.150632: I tensorflow/core/grappler/optimizers/meta_optimizer.cc:818]   dependency_optimizer: Graph size after: 154 nodes (0), 179 edges (0), time = 0.985ms.\n",
            "2020-09-13 19:08:39.150642: I tensorflow/core/grappler/optimizers/meta_optimizer.cc:818]   remapper: Graph size after: 154 nodes (0), 179 edges (0), time = 0.579ms.\n",
            "2020-09-13 19:08:39.150655: I tensorflow/core/grappler/optimizers/meta_optimizer.cc:818]   constant_folding: Graph size after: 154 nodes (0), 179 edges (0), time = 4.143ms.\n",
            "2020-09-13 19:08:39.150667: I tensorflow/core/grappler/optimizers/meta_optimizer.cc:818]   arithmetic_optimizer: Graph size after: 154 nodes (0), 179 edges (0), time = 3.893ms.\n",
            "2020-09-13 19:08:39.150679: I tensorflow/core/grappler/optimizers/meta_optimizer.cc:818]   dependency_optimizer: Graph size after: 154 nodes (0), 179 edges (0), time = 0.968ms.\n",
            "Writing weight file models/CartoonGAN/web-float16/model.json...\n"
          ],
          "name": "stdout"
        }
      ]
    },
    {
      "cell_type": "markdown",
      "metadata": {
        "id": "CX0rEK6gGB7B"
      },
      "source": [
        "**Quantize the weights (unit 8)**"
      ]
    },
    {
      "cell_type": "code",
      "metadata": {
        "id": "sKOO0Kc3yDPY",
        "colab": {
          "base_uri": "https://localhost:8080/",
          "height": 853
        },
        "outputId": "0079d4c0-75a0-4bea-a956-be25eed052a6"
      },
      "source": [
        "!tensorflowjs_converter --quantize_uint8 \\\n",
        "    --input_format=tf_saved_model --output_node_names='final_output' \\\n",
        "    models/CartoonGAN/saved_model models/CartoonGAN/web-uint8"
      ],
      "execution_count": null,
      "outputs": [
        {
          "output_type": "stream",
          "text": [
            "2020-09-13 19:08:42.129019: I tensorflow/core/platform/cpu_feature_guard.cc:142] This TensorFlow binary is optimized with oneAPI Deep Neural Network Library (oneDNN)to use the following CPU instructions in performance-critical operations:  AVX2 FMA\n",
            "To enable them in other operations, rebuild TensorFlow with the appropriate compiler flags.\n",
            "2020-09-13 19:08:42.133013: I tensorflow/core/platform/profile_utils/cpu_utils.cc:104] CPU Frequency: 2200000000 Hz\n",
            "2020-09-13 19:08:42.133263: I tensorflow/compiler/xla/service/service.cc:168] XLA service 0x2190f40 initialized for platform Host (this does not guarantee that XLA will be used). Devices:\n",
            "2020-09-13 19:08:42.133300: I tensorflow/compiler/xla/service/service.cc:176]   StreamExecutor device (0): Host, Default Version\n",
            "WARNING:tensorflow:Issue encountered when serializing model_variables.\n",
            "Type is unsupported, or the types of the items don't match field type in CollectionDef. Note this is a warning and probably safe to ignore.\n",
            "to_proto not supported in EAGER mode.\n",
            "WARNING:tensorflow:Issue encountered when serializing variables.\n",
            "Type is unsupported, or the types of the items don't match field type in CollectionDef. Note this is a warning and probably safe to ignore.\n",
            "to_proto not supported in EAGER mode.\n",
            "WARNING:tensorflow:Issue encountered when serializing trainable_variables.\n",
            "Type is unsupported, or the types of the items don't match field type in CollectionDef. Note this is a warning and probably safe to ignore.\n",
            "to_proto not supported in EAGER mode.\n",
            "2020-09-13 19:08:42.404937: I tensorflow/core/grappler/devices.cc:78] Number of eligible GPUs (core count >= 8, compute capability >= 0.0): 0 (Note: TensorFlow was not compiled with CUDA or ROCm support)\n",
            "2020-09-13 19:08:42.405104: I tensorflow/core/grappler/clusters/single_machine.cc:356] Starting new session\n",
            "2020-09-13 19:08:42.408229: I tensorflow/core/grappler/optimizers/meta_optimizer.cc:816] Optimization results for grappler item: graph_to_optimize\n",
            "2020-09-13 19:08:42.408270: I tensorflow/core/grappler/optimizers/meta_optimizer.cc:818]   function_optimizer: function_optimizer did nothing. time = 0.003ms.\n",
            "2020-09-13 19:08:42.408282: I tensorflow/core/grappler/optimizers/meta_optimizer.cc:818]   function_optimizer: function_optimizer did nothing. time = 0ms.\n",
            "2020-09-13 19:08:42.776102: I tensorflow/core/grappler/optimizers/meta_optimizer.cc:816] Optimization results for grappler item: graph_to_optimize\n",
            "2020-09-13 19:08:42.776165: I tensorflow/core/grappler/optimizers/meta_optimizer.cc:818]   debug_stripper: debug_stripper did nothing. time = 0.015ms.\n",
            "2020-09-13 19:08:42.776183: I tensorflow/core/grappler/optimizers/meta_optimizer.cc:818]   model_pruner: Graph size after: 172 nodes (-36), 199 edges (-36), time = 1.043ms.\n",
            "2020-09-13 19:08:42.776198: I tensorflow/core/grappler/optimizers/meta_optimizer.cc:818]   constant_folding: Graph size after: 172 nodes (0), 199 edges (0), time = 7.851ms.\n",
            "2020-09-13 19:08:42.776207: I tensorflow/core/grappler/optimizers/meta_optimizer.cc:818]   arithmetic_optimizer: Graph size after: 174 nodes (2), 201 edges (2), time = 3.463ms.\n",
            "2020-09-13 19:08:42.776220: I tensorflow/core/grappler/optimizers/meta_optimizer.cc:818]   dependency_optimizer: Graph size after: 172 nodes (-2), 197 edges (-4), time = 1.003ms.\n",
            "2020-09-13 19:08:42.776232: I tensorflow/core/grappler/optimizers/meta_optimizer.cc:818]   model_pruner: Graph size after: 172 nodes (0), 197 edges (0), time = 0.524ms.\n",
            "2020-09-13 19:08:42.776244: I tensorflow/core/grappler/optimizers/meta_optimizer.cc:818]   constant_folding: Graph size after: 172 nodes (0), 197 edges (0), time = 4.038ms.\n",
            "2020-09-13 19:08:42.776256: I tensorflow/core/grappler/optimizers/meta_optimizer.cc:818]   arithmetic_optimizer: Graph size after: 172 nodes (0), 197 edges (0), time = 3.397ms.\n",
            "2020-09-13 19:08:42.776268: I tensorflow/core/grappler/optimizers/meta_optimizer.cc:818]   dependency_optimizer: Graph size after: 172 nodes (0), 197 edges (0), time = 0.896ms.\n",
            "2020-09-13 19:08:42.776281: I tensorflow/core/grappler/optimizers/meta_optimizer.cc:818]   debug_stripper: debug_stripper did nothing. time = 0.076ms.\n",
            "2020-09-13 19:08:42.776292: I tensorflow/core/grappler/optimizers/meta_optimizer.cc:818]   model_pruner: Graph size after: 172 nodes (0), 197 edges (0), time = 0.441ms.\n",
            "2020-09-13 19:08:42.776304: I tensorflow/core/grappler/optimizers/meta_optimizer.cc:818]   constant_folding: Graph size after: 172 nodes (0), 197 edges (0), time = 3.684ms.\n",
            "2020-09-13 19:08:42.776317: I tensorflow/core/grappler/optimizers/meta_optimizer.cc:818]   arithmetic_optimizer: Graph size after: 172 nodes (0), 197 edges (0), time = 3.888ms.\n",
            "2020-09-13 19:08:42.776329: I tensorflow/core/grappler/optimizers/meta_optimizer.cc:818]   dependency_optimizer: Graph size after: 172 nodes (0), 197 edges (0), time = 0.907ms.\n",
            "2020-09-13 19:08:42.776341: I tensorflow/core/grappler/optimizers/meta_optimizer.cc:818]   model_pruner: Graph size after: 172 nodes (0), 197 edges (0), time = 0.505ms.\n",
            "2020-09-13 19:08:42.776353: I tensorflow/core/grappler/optimizers/meta_optimizer.cc:818]   constant_folding: Graph size after: 172 nodes (0), 197 edges (0), time = 3.688ms.\n",
            "2020-09-13 19:08:42.776365: I tensorflow/core/grappler/optimizers/meta_optimizer.cc:818]   arithmetic_optimizer: Graph size after: 172 nodes (0), 197 edges (0), time = 3.507ms.\n",
            "2020-09-13 19:08:42.776377: I tensorflow/core/grappler/optimizers/meta_optimizer.cc:818]   dependency_optimizer: Graph size after: 172 nodes (0), 197 edges (0), time = 0.899ms.\n",
            "2020-09-13 19:08:42.821756: I tensorflow/core/grappler/optimizers/meta_optimizer.cc:816] Optimization results for grappler item: graph_to_optimize\n",
            "2020-09-13 19:08:42.821814: I tensorflow/core/grappler/optimizers/meta_optimizer.cc:818]   remapper: Graph size after: 154 nodes (-18), 179 edges (-18), time = 0.649ms.\n",
            "2020-09-13 19:08:42.821835: I tensorflow/core/grappler/optimizers/meta_optimizer.cc:818]   constant_folding: Graph size after: 154 nodes (0), 179 edges (0), time = 4.606ms.\n",
            "2020-09-13 19:08:42.821849: I tensorflow/core/grappler/optimizers/meta_optimizer.cc:818]   arithmetic_optimizer: Graph size after: 154 nodes (0), 179 edges (0), time = 3.681ms.\n",
            "2020-09-13 19:08:42.821860: I tensorflow/core/grappler/optimizers/meta_optimizer.cc:818]   dependency_optimizer: Graph size after: 154 nodes (0), 179 edges (0), time = 0.914ms.\n",
            "2020-09-13 19:08:42.821872: I tensorflow/core/grappler/optimizers/meta_optimizer.cc:818]   remapper: Graph size after: 154 nodes (0), 179 edges (0), time = 0.413ms.\n",
            "2020-09-13 19:08:42.821884: I tensorflow/core/grappler/optimizers/meta_optimizer.cc:818]   constant_folding: Graph size after: 154 nodes (0), 179 edges (0), time = 3.825ms.\n",
            "2020-09-13 19:08:42.821897: I tensorflow/core/grappler/optimizers/meta_optimizer.cc:818]   arithmetic_optimizer: Graph size after: 154 nodes (0), 179 edges (0), time = 4.159ms.\n",
            "2020-09-13 19:08:42.821908: I tensorflow/core/grappler/optimizers/meta_optimizer.cc:818]   dependency_optimizer: Graph size after: 154 nodes (0), 179 edges (0), time = 0.924ms.\n",
            "Writing weight file models/CartoonGAN/web-uint8/model.json...\n"
          ],
          "name": "stdout"
        }
      ]
    },
    {
      "cell_type": "markdown",
      "metadata": {
        "id": "w8qnav8AGGWx"
      },
      "source": [
        "Check model sizes"
      ]
    },
    {
      "cell_type": "code",
      "metadata": {
        "id": "n-f9ZgVlzKFN",
        "colab": {
          "base_uri": "https://localhost:8080/",
          "height": 85
        },
        "outputId": "34fe2080-90c8-4e5c-d182-d1c20f19d760"
      },
      "source": [
        "!du -sh models/CartoonGAN/*"
      ],
      "execution_count": null,
      "outputs": [
        {
          "output_type": "stream",
          "text": [
            "5.8M\tmodels/CartoonGAN/saved_model\n",
            "5.7M\tmodels/CartoonGAN/web\n",
            "2.9M\tmodels/CartoonGAN/web-float16\n",
            "1.5M\tmodels/CartoonGAN/web-uint8\n"
          ],
          "name": "stdout"
        }
      ]
    },
    {
      "cell_type": "markdown",
      "metadata": {
        "id": "jVrRaunGGKf7"
      },
      "source": [
        "Download models"
      ]
    },
    {
      "cell_type": "code",
      "metadata": {
        "id": "xDvluXtNzVkd"
      },
      "source": [
        "!zip -r models.zip models"
      ],
      "execution_count": null,
      "outputs": []
    },
    {
      "cell_type": "code",
      "metadata": {
        "id": "UnI8WYj3zr-K"
      },
      "source": [
        "from google.colab import files\n",
        "files.download('models.zip')"
      ],
      "execution_count": null,
      "outputs": []
    }
  ]
}