{
  "nbformat": 4,
  "nbformat_minor": 0,
  "metadata": {
    "colab": {
      "name": "Blender_CyclesX",
      "private_outputs": true,
      "provenance": [],
      "collapsed_sections": [],
      "include_colab_link": true
    },
    "kernelspec": {
      "name": "python3",
      "display_name": "Python 3"
    },
    "accelerator": "GPU"
  },
  "cells": [
    {
      "cell_type": "markdown",
      "metadata": {
        "id": "view-in-github",
        "colab_type": "text"
      },
      "source": [
        "<a href=\"https://colab.research.google.com/github/bardiaHSZD/ComputerVisionVFX/blob/main/Blender_CyclesX.ipynb\" target=\"_parent\"><img src=\"https://colab.research.google.com/assets/colab-badge.svg\" alt=\"Open In Colab\"/></a>"
      ]
    },
    {
      "cell_type": "code",
      "metadata": {
        "id": "y72eBIMRlOe9"
      },
      "source": [
        "#Connect Google Drive\n",
        "from google.colab import drive\n",
        "drive.mount('/gdrive')"
      ],
      "execution_count": null,
      "outputs": []
    },
    {
      "cell_type": "code",
      "metadata": {
        "id": "sj8s2SFnlI3u"
      },
      "source": [
        "!wget -c https://mirror.clarkson.edu/blender/release/Blender2.93/blender-2.93.5-linux-x64.tar.xz"
      ],
      "execution_count": null,
      "outputs": []
    },
    {
      "cell_type": "code",
      "metadata": {
        "id": "cCsuzUH8aiu-"
      },
      "source": [
        "!ls"
      ],
      "execution_count": null,
      "outputs": []
    },
    {
      "cell_type": "code",
      "metadata": {
        "id": "zVvvjryuZJei"
      },
      "source": [
        "!tar xf blender-2.93.5-linux-x64.tar.xz"
      ],
      "execution_count": null,
      "outputs": []
    },
    {
      "cell_type": "code",
      "metadata": {
        "id": "9jQeqK2Udixd"
      },
      "source": [
        "#Change exectutable access to blender on Google Drive\n",
        "!chmod +x /content/blender/blender"
      ],
      "execution_count": null,
      "outputs": []
    },
    {
      "cell_type": "code",
      "metadata": {
        "id": "0kUypTxtlUQM"
      },
      "source": [
        "#Set Paths to Blender Files\n",
        "filename = '/content/Blender 2.blend'"
      ],
      "execution_count": null,
      "outputs": []
    },
    {
      "cell_type": "code",
      "metadata": {
        "id": "I2hRSvuNlWu8"
      },
      "source": [
        "#Run Blender\n",
        "###########\n",
        "\n",
        "#Render a Still Frame\n",
        "!sudo ./content/blender/blender -b $filename -noaudio -E 'CYCLES' -o '/content/Blender_Projects/Outputs/output.png' -f 1 -F 'PNG' -- --cycles-device OPTIX\n",
        "\n",
        "#Render an Animation\n",
        "#!sudo ./content/blender/blender -b $filename -noaudio -E 'CYCLES' -o '/gdrive/MyDrive/image_####' -s 8 -e 250 -a -- --cycles-device OPTIX"
      ],
      "execution_count": null,
      "outputs": []
    }
  ]
}